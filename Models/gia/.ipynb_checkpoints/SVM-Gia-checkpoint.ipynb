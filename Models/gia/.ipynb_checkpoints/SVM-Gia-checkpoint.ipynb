{
 "cells": [
  {
   "cell_type": "code",
   "execution_count": 1,
   "id": "ba4268f2-a709-46e6-9fcc-120bb336c390",
   "metadata": {},
   "outputs": [],
   "source": [
    "from pyspark.sql import SparkSession\n",
    "from pyspark.ml.regression import LinearRegression\n",
    "from pyspark.ml.feature import VectorAssembler\n",
    "from pyspark.ml import Pipeline\n",
    "from pyspark.sql import functions as F\n",
    "from pyspark.sql.types import IntegerType\n",
    "from pyspark.ml.evaluation import RegressionEvaluator\n",
    "from pyspark.ml.tuning import ParamGridBuilder, CrossValidator\n",
    "import os"
   ]
  },
  {
   "cell_type": "code",
   "execution_count": 2,
   "id": "aaea7471-90f9-44c2-b4ad-98f9b2aab8e0",
   "metadata": {},
   "outputs": [
    {
     "name": "stdout",
     "output_type": "stream",
     "text": [
      "Current Working Directory: None\n",
      "Files in Current Directory: ['KO_merged_data.csv', 'KO_quarterly_balance-sheet.csv', 'KO_1st_toLoad.csv', 'KO.csv', 'KO_quarterly_valuation_measures.csv', '.ipynb_checkpoints', 'KOv3.csv', 'KO_filtered_merged_data.csv', 'KO_quarterly_cash-flow.csv', 'KO_quarterly_financials.csv', 'data.txt']\n"
     ]
    }
   ],
   "source": [
    "# Get the current working directory\n",
    "current_directory = os.chdir(\"/Users/giasmith/DCFinal/Data\")\n",
    "\n",
    "# Print the current working directory\n",
    "print(\"Current Working Directory:\", current_directory)\n",
    "# List files in the current working directory\n",
    "print(\"Files in Current Directory:\", os.listdir())"
   ]
  },
  {
   "cell_type": "code",
   "execution_count": 3,
   "id": "cc34d2c4-47f1-4392-802b-483c801b9aaa",
   "metadata": {},
   "outputs": [
    {
     "name": "stderr",
     "output_type": "stream",
     "text": [
      "23/11/25 08:51:55 WARN Utils: Your hostname, Gias-MacBook-Pro.local resolves to a loopback address: 127.0.0.1; using 10.0.0.100 instead (on interface en0)\n",
      "23/11/25 08:51:55 WARN Utils: Set SPARK_LOCAL_IP if you need to bind to another address\n",
      "Setting default log level to \"WARN\".\n",
      "To adjust logging level use sc.setLogLevel(newLevel). For SparkR, use setLogLevel(newLevel).\n",
      "23/11/25 08:51:55 WARN NativeCodeLoader: Unable to load native-hadoop library for your platform... using builtin-java classes where applicable\n"
     ]
    }
   ],
   "source": [
    "spark = SparkSession.builder.getOrCreate()\n",
    "sc = spark.sparkContext"
   ]
  },
  {
   "cell_type": "code",
   "execution_count": 4,
   "id": "b4d96895-699e-4b5b-8b75-f5d98409a5a8",
   "metadata": {},
   "outputs": [],
   "source": [
    "# Read in stock data. Source: Yahoo! finance\n",
    "path1 = 'KO.csv'\n",
    "path2 = 'KO_1st_toLoad.csv'\n",
    "path3 = 'KO_quarterly_valuation_measures.csv'\n",
    "path4 = 'KO_quarterly_financials.csv'\n",
    "path5 = 'KO_quarterly_balance-sheet.csv'\n",
    "path6 = 'KO_quarterly_cash-flow.csv'\n",
    "path7 = 'KO_merged_data.csv'\n",
    "path8 = 'filtered_merged_data.csv'\n",
    "path9 = 'KO_filtered_merged_data.csv'\n",
    "path10 = 'KOv3.csv'"
   ]
  },
  {
   "cell_type": "code",
   "execution_count": 5,
   "id": "829c6cb7-90b6-41a1-8290-d485078d137d",
   "metadata": {},
   "outputs": [],
   "source": [
    "df = spark.read.csv(path10, header=True, inferSchema=True)"
   ]
  },
  {
   "cell_type": "code",
   "execution_count": 6,
   "id": "6451d4ba-f94c-47dc-a862-6e3e51061afa",
   "metadata": {},
   "outputs": [],
   "source": [
    "outcome = \"Adj Close\"\n",
    "# get all columns except the outcome variable\n",
    "feature_cols = [col for col in df.columns if col != outcome]"
   ]
  },
  {
   "cell_type": "markdown",
   "id": "2cf7fc5d-847e-4102-9dd8-f2c31852cfae",
   "metadata": {},
   "source": [
    "### Outcome Correlation\n",
    "Reference: \n",
    "https://towardsdatascience.com/building-a-linear-regression-with-pyspark-and-mllib-d065c3ba246a"
   ]
  },
  {
   "cell_type": "code",
   "execution_count": 13,
   "id": "d71c832b-5460-464b-b49c-d1c5d40ed4f4",
   "metadata": {
    "tags": []
   },
   "outputs": [
    {
     "name": "stdout",
     "output_type": "stream",
     "text": [
      "                                          Feature  Correlation\n",
      "0                                            Open     0.962377\n",
      "1                                            High     0.962049\n",
      "2                                             Low     0.968765\n",
      "3                                           Close     0.969214\n",
      "6                                       MarketCap     0.937978\n",
      "7                                 EnterpriseValue     0.958147\n",
      "43                                    TotalAssets     0.886444\n",
      "48                                      Inventory     0.874961\n",
      "49                          TotalNonCurrentAssets     0.919456\n",
      "53               GoodwillAndOtherIntangibleAssets     0.876966\n",
      "56            TotalLiabilitiesNetMinorityInterest     0.915328\n",
      "58                     PayablesAndAccruedExpenses     0.868639\n",
      "59                                       Payables     0.847150\n",
      "60                                AccountsPayable     0.829880\n",
      "63  TotalNonCurrentLiabilitiesNetMinorityInterest     0.944083\n",
      "64          LongTermDebtAndCapitalLeaseObligation     0.937168\n",
      "65                                   LongTermDebt     0.937168\n",
      "68                     OtherNonCurrentLiabilities     0.925659\n",
      "71                               RetainedEarnings     0.907588\n",
      "72                            TotalCapitalization     0.902623\n",
      "76                                InvestedCapital     0.859177\n",
      "78                                      TotalDebt     0.889713\n"
     ]
    }
   ],
   "source": [
    "import six\n",
    "import pandas as pd\n",
    "\n",
    "correlation_list = []\n",
    "\n",
    "# iterate through the columns of the dataFrame\n",
    "for i in feature_cols:\n",
    "    # check if the column is not a string type\n",
    "    if not isinstance(df.select(i).take(1)[0][0], six.string_types):\n",
    "        # calculate the correlation with 'Adj Close'\n",
    "        correlation_value = df.stat.corr('Adj Close', i)\n",
    "        \n",
    "        # append the pair (feature, correlation) to the list\n",
    "        correlation_list.append((i, correlation_value))\n",
    "\n",
    "# convert the list to a DataFrame\n",
    "correlation_df = pd.DataFrame(correlation_list, columns=['Feature', 'Correlation'])\n",
    "\n",
    "# filter features with correlation greater than 0.7\n",
    "selected_features = correlation_df[correlation_df['Correlation'] > 0.8]\n",
    "print(selected_features)"
   ]
  },
  {
   "cell_type": "code",
   "execution_count": 11,
   "id": "33e328e7-d249-4754-867e-b7dccb60960c",
   "metadata": {
    "tags": []
   },
   "outputs": [],
   "source": [
    "feature_columns = selected_features[\"Feature\"].tolist()"
   ]
  },
  {
   "cell_type": "code",
   "execution_count": 12,
   "id": "e87e2bd1-1eed-4d09-bac5-079d392cb2a3",
   "metadata": {},
   "outputs": [
    {
     "data": {
      "text/plain": [
       "['Open',\n",
       " 'High',\n",
       " 'Low',\n",
       " 'Close',\n",
       " 'MarketCap',\n",
       " 'EnterpriseValue',\n",
       " 'TotalAssets',\n",
       " 'Inventory',\n",
       " 'TotalNonCurrentAssets',\n",
       " 'GoodwillAndOtherIntangibleAssets',\n",
       " 'TotalLiabilitiesNetMinorityInterest',\n",
       " 'PayablesAndAccruedExpenses',\n",
       " 'Payables',\n",
       " 'AccountsPayable',\n",
       " 'TotalNonCurrentLiabilitiesNetMinorityInterest',\n",
       " 'LongTermDebtAndCapitalLeaseObligation',\n",
       " 'LongTermDebt',\n",
       " 'OtherNonCurrentLiabilities',\n",
       " 'RetainedEarnings',\n",
       " 'TotalCapitalization',\n",
       " 'InvestedCapital',\n",
       " 'TotalDebt']"
      ]
     },
     "execution_count": 12,
     "metadata": {},
     "output_type": "execute_result"
    }
   ],
   "source": [
    "feature_columns"
   ]
  },
  {
   "cell_type": "code",
   "execution_count": null,
   "id": "ee319560-a2f5-4ee1-9f73-a45b2309cb31",
   "metadata": {},
   "outputs": [],
   "source": []
  },
  {
   "cell_type": "code",
   "execution_count": 9,
   "id": "5425fa63-8316-4073-9d97-1623f4e77aee",
   "metadata": {},
   "outputs": [
    {
     "ename": "NameError",
     "evalue": "name 'LinearSVR' is not defined",
     "output_type": "error",
     "traceback": [
      "\u001b[0;31m---------------------------------------------------------------------------\u001b[0m",
      "\u001b[0;31mNameError\u001b[0m                                 Traceback (most recent call last)",
      "Cell \u001b[0;32mIn[9], line 9\u001b[0m\n\u001b[1;32m      6\u001b[0m training_data \u001b[38;5;241m=\u001b[39m training_data\u001b[38;5;241m.\u001b[39mna\u001b[38;5;241m.\u001b[39mdrop()\n\u001b[1;32m      8\u001b[0m \u001b[38;5;66;03m# Create a SVM\u001b[39;00m\n\u001b[0;32m----> 9\u001b[0m svm \u001b[38;5;241m=\u001b[39m \u001b[43mLinearSVR\u001b[49m(featuresCol\u001b[38;5;241m=\u001b[39m\u001b[38;5;124m'\u001b[39m\u001b[38;5;124mfeatures\u001b[39m\u001b[38;5;124m'\u001b[39m, labelCol\u001b[38;5;241m=\u001b[39m\u001b[38;5;124m'\u001b[39m\u001b[38;5;124mAdj Close\u001b[39m\u001b[38;5;124m'\u001b[39m, maxIter\u001b[38;5;241m=\u001b[39m\u001b[38;5;241m20\u001b[39m, regParam\u001b[38;5;241m=\u001b[39m\u001b[38;5;241m0.1\u001b[39m)\n\u001b[1;32m     11\u001b[0m \u001b[38;5;66;03m# Create a pipeline\u001b[39;00m\n\u001b[1;32m     12\u001b[0m pipeline \u001b[38;5;241m=\u001b[39m Pipeline(stages\u001b[38;5;241m=\u001b[39m[assembler, gbt])\n",
      "\u001b[0;31mNameError\u001b[0m: name 'LinearSVR' is not defined"
     ]
    }
   ],
   "source": [
    "assembler = VectorAssembler(inputCols=feature_columns, outputCol='features', handleInvalid=\"skip\")\n",
    "\n",
    "# Split the data into training and testing sets\n",
    "(training_data, testing_data) = df.randomSplit([0.8, 0.2], seed=1234)\n",
    "\n",
    "training_data = training_data.na.drop()\n",
    "\n",
    "# Create a SVM\n",
    "svm = LinearSVR(featuresCol='features', labelCol='Adj Close', maxIter=20, regParam=0.1)\n",
    "\n",
    "# Create a pipeline\n",
    "pipeline = Pipeline(stages=[assembler, gbt])\n",
    "\n",
    "# Fit the model\n",
    "model = pipeline.fit(training_data)\n",
    "\n",
    "# Make predictions on the testing set\n",
    "predictions = model.transform(testing_data)\n",
    "\n",
    "# Evaluate the model\n",
    "evaluator = RegressionEvaluator(labelCol=\"Adj Close\", predictionCol=\"prediction\", metricName=\"rmse\")\n",
    "rmse = evaluator.evaluate(predictions)\n",
    "print(f\"Root Mean Squared Error (RMSE) on the test data: {rmse}\")\n",
    "# An aRMSE value close to 1 implies that the model's predictions have a high level of error relative to the range of the target variable."
   ]
  },
  {
   "cell_type": "code",
   "execution_count": null,
   "id": "55baaad9-c8ae-44e8-9389-1ce89d591f36",
   "metadata": {},
   "outputs": [],
   "source": [
    "import six\n",
    "import pandas as pd\n",
    "\n",
    "correlation_list = []\n",
    "\n",
    "# iterate through the columns of the dataFrame\n",
    "for i in feature_cols:\n",
    "    # check if the column is not a string type\n",
    "    if not isinstance(df.select(i).take(1)[0][0], six.string_types):\n",
    "        # calculate the correlation with 'Adj Close'\n",
    "        correlation_value = df.stat.corr('Adj Close', i)\n",
    "        \n",
    "        # append the pair (feature, correlation) to the list\n",
    "        correlation_list.append((i, correlation_value))\n",
    "\n",
    "# convert the list to a DataFrame\n",
    "correlation_df = pd.DataFrame(correlation_list, columns=['Feature', 'Correlation'])\n",
    "\n",
    "# filter features with correlation greater than 0.7\n",
    "selected_features = correlation_df[correlation_df['Correlation'] > 0.87]\n",
    "#print(selected_features)\n",
    "\n",
    "# putting features into a list\n",
    "feature_columns = selected_features[\"Feature\"].tolist()"
   ]
  }
 ],
 "metadata": {
  "kernelspec": {
   "display_name": "Python 3 (ipykernel)",
   "language": "python",
   "name": "python3"
  },
  "language_info": {
   "codemirror_mode": {
    "name": "ipython",
    "version": 3
   },
   "file_extension": ".py",
   "mimetype": "text/x-python",
   "name": "python",
   "nbconvert_exporter": "python",
   "pygments_lexer": "ipython3",
   "version": "3.11.2"
  }
 },
 "nbformat": 4,
 "nbformat_minor": 5
}
