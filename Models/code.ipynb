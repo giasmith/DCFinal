{
 "cells": [
  {
   "cell_type": "markdown",
   "metadata": {},
   "source": [
    "# University of Virginia, School of Data Science\n",
    "## Final Project | DS 7200: Distributed Computing\n",
    "### Team 5: Gia Smith, Luz Melo, Meesun Yang\n",
    "---"
   ]
  },
  {
   "cell_type": "markdown",
   "metadata": {},
   "source": [
    "# STEP 1: Data Import and Preprocessing\n",
    "\n",
    "(Preprocessing include such tasks as imputing, binning, filtering, outlier treatment, feature engineering, \n",
    "text processing)"
   ]
  },
  {
   "cell_type": "code",
   "execution_count": 1,
   "metadata": {},
   "outputs": [],
   "source": [
    "import os\n",
    "import pandas as pd\n",
    "import numpy as np\n",
    "import matplotlib.pyplot as plt\n",
    "from pyspark.sql import SparkSession\n",
    "from pyspark.ml.feature import StandardScaler\n",
    "from pyspark.sql import functions as F\n",
    "from pyspark.sql import SQLContext\n",
    "from pyspark.sql.window import Window\n",
    "from pyspark.sql.functions import lit\n",
    "from pyspark.sql.functions import col\n",
    "from pyspark.sql.functions import mean, stddev, corr\n",
    "from pyspark.ml import Pipeline\n",
    "from pyspark.ml.feature import VectorAssembler\n",
    "from pyspark.ml.feature import StringIndexer \n",
    "from pyspark.sql.types import StructType, StructField, DateType, FloatType, LongType\n",
    "\n",
    "from pyspark.ml.regression import GeneralizedLinearRegression\n",
    "from pyspark.ml.evaluation import BinaryClassificationEvaluator\n",
    "from pyspark.ml.regression import RandomForestRegressor\n",
    "from pyspark.ml.regression import GBTRegressor\n",
    "from pyspark.ml.classification import NaiveBayes\n",
    "from pyspark.ml.classification import LinearSVC\n",
    "from pyspark.ml.evaluation import RegressionEvaluator"
   ]
  },
  {
   "cell_type": "code",
   "execution_count": 2,
   "metadata": {},
   "outputs": [
    {
     "name": "stderr",
     "output_type": "stream",
     "text": [
      "/opt/conda/lib/python3.7/site-packages/pyspark/bin/load-spark-env.sh: line 68: ps: command not found\n",
      "Setting default log level to \"WARN\".\n",
      "To adjust logging level use sc.setLogLevel(newLevel). For SparkR, use setLogLevel(newLevel).\n"
     ]
    },
    {
     "name": "stdout",
     "output_type": "stream",
     "text": [
      "23/12/06 22:45:13 WARN NativeCodeLoader: Unable to load native-hadoop library for your platform... using builtin-java classes where applicable\n"
     ]
    }
   ],
   "source": [
    "# set up the session\n",
    "spark = SparkSession.builder.getOrCreate()"
   ]
  },
  {
   "cell_type": "raw",
   "metadata": {},
   "source": [
    "# Get the current working directory\n",
    "current_directory = os.getcwd()\n",
    "\n",
    "# Print the current working directory\n",
    "print(\"Current Working Directory:\", current_directory)\n",
    "# List files in the current working directory\n",
    "print(\"Files in Current Directory:\", os.listdir())"
   ]
  },
  {
   "cell_type": "markdown",
   "metadata": {},
   "source": [
    "## The Data"
   ]
  },
  {
   "cell_type": "raw",
   "metadata": {},
   "source": [
    "# To transpose cvs files we use this website:  https://www.convertcsv.com/transpose-csv.htm"
   ]
  },
  {
   "cell_type": "code",
   "execution_count": 3,
   "metadata": {},
   "outputs": [],
   "source": [
    "# Read in stock data. Source: Yahoo! finance\n",
    "path1 = 'KO.csv'\n",
    "path2 = 'KO_1st_toLoad.csv'\n",
    "path3 = 'KO_quarterly_valuation_measures.csv'\n",
    "path4 = 'KO_quarterly_financials.csv'\n",
    "path5 = 'KO_quarterly_balance-sheet.csv'\n",
    "path6 = 'KO_quarterly_cash-flow.csv'\n",
    "path7 = 'KO_merged_data.csv'\n",
    "path8 = 'filtered_merged_data.csv'\n",
    "path9 = 'KO_filtered_merged_data.csv'\n",
    "path10 = 'KOv3.csv'\n",
    "path11 = 'KO_class.csv'"
   ]
  },
  {
   "cell_type": "code",
   "execution_count": 4,
   "metadata": {},
   "outputs": [],
   "source": [
    "# set up schema\n",
    "stock_schema = StructType([StructField('Date',DateType(),False),\n",
    "                           StructField('Open',FloatType(),False),\n",
    "                           StructField('High',FloatType(),False),\n",
    "                           StructField('Low',FloatType(),False),\n",
    "                           StructField('Close',FloatType(),False),\n",
    "                           StructField('Adj Close',FloatType(),False),\n",
    "                           StructField('Volume',FloatType(),False),\n",
    "                         ])"
   ]
  },
  {
   "cell_type": "markdown",
   "metadata": {},
   "source": [
    "### Historical Data: Daily"
   ]
  },
  {
   "cell_type": "code",
   "execution_count": 5,
   "metadata": {},
   "outputs": [
    {
     "name": "stdout",
     "output_type": "stream",
     "text": [
      "+----------+--------+--------+--------+--------+---------+---------+\n",
      "|      Date|    Open|    High|     Low|   Close|Adj Close|   Volume|\n",
      "+----------+--------+--------+--------+--------+---------+---------+\n",
      "|1962-01-02|0.263021|0.270182|0.263021|0.263021| 0.048528| 806400.0|\n",
      "|1962-01-03|0.259115|0.259115|0.253255|0.257161| 0.047447|1574400.0|\n",
      "|1962-01-04|0.257813|0.261068|0.257813|0.259115| 0.047807| 844800.0|\n",
      "|1962-01-05|0.259115| 0.26237|0.252604|0.253255| 0.046726|1420800.0|\n",
      "|1962-01-08|0.251302|0.251302|0.245768|0.250651| 0.046246|2035200.0|\n",
      "|1962-01-09|0.250651| 0.25651|0.248698|0.255208| 0.047087| 960000.0|\n",
      "|1962-01-10|0.255208|0.260091|0.252604| 0.25651| 0.047327|1612800.0|\n",
      "|1962-01-11| 0.25651|0.259115|0.255208|0.259115| 0.047807| 614400.0|\n",
      "|1962-01-12|0.259115|0.259115|0.254557|0.257161| 0.047447| 883200.0|\n",
      "|1962-01-15| 0.25651| 0.25651|0.253906|0.254557| 0.046966| 614400.0|\n",
      "+----------+--------+--------+--------+--------+---------+---------+\n",
      "only showing top 10 rows\n",
      "\n"
     ]
    },
    {
     "name": "stderr",
     "output_type": "stream",
     "text": [
      "                                                                                \r"
     ]
    }
   ],
   "source": [
    "df1 = spark.read.csv(path1, header=True, schema=stock_schema)\n",
    "df1.show(10)"
   ]
  },
  {
   "cell_type": "code",
   "execution_count": 6,
   "metadata": {},
   "outputs": [
    {
     "name": "stdout",
     "output_type": "stream",
     "text": [
      "root\n",
      " |-- Date: date (nullable = true)\n",
      " |-- Open: float (nullable = true)\n",
      " |-- High: float (nullable = true)\n",
      " |-- Low: float (nullable = true)\n",
      " |-- Close: float (nullable = true)\n",
      " |-- Adj Close: float (nullable = true)\n",
      " |-- Volume: float (nullable = true)\n",
      "\n"
     ]
    }
   ],
   "source": [
    "df1.printSchema()"
   ]
  },
  {
   "cell_type": "markdown",
   "metadata": {},
   "source": [
    "### Historical Data: Quarterly"
   ]
  },
  {
   "cell_type": "code",
   "execution_count": 7,
   "metadata": {},
   "outputs": [
    {
     "name": "stdout",
     "output_type": "stream",
     "text": [
      "+----------+--------+--------+--------+--------+---------+---------+\n",
      "|      Date|    Open|    High|     Low|   Close|Adj Close|   Volume|\n",
      "+----------+--------+--------+--------+--------+---------+---------+\n",
      "| 3/31/1985|1.458333|1.505208|1.408854|1.427083| 0.565683|331833600|\n",
      "| 6/30/1985|1.445313|1.559896|1.401042|1.505208| 0.603144|522912000|\n",
      "| 9/30/1985|1.453125|1.510417|1.440104|1.492188| 0.604408|258590400|\n",
      "|12/31/1985|1.760417|1.770833|1.598958|1.747396| 0.714215|288134400|\n",
      "| 3/31/1986|  2.1875|     2.5|2.052083|2.322917| 0.957008|416294400|\n",
      "| 6/30/1986|2.742188|2.804688|2.359375|2.445313| 1.014374|364022400|\n",
      "| 9/30/1986|2.117188|2.453125|2.109375|2.289063| 0.956324|255110400|\n",
      "|12/31/1986|2.359375|2.773438|2.359375|2.664063| 1.121004|392235200|\n",
      "| 3/31/1987|2.859375|  2.9375|2.546875|2.664063| 1.128003|319137600|\n",
      "| 6/30/1987|2.765625|2.992188|2.679688|2.976563| 1.268484|321331200|\n",
      "+----------+--------+--------+--------+--------+---------+---------+\n",
      "only showing top 10 rows\n",
      "\n"
     ]
    }
   ],
   "source": [
    "df2 = spark.read.csv(path2, header=True, inferSchema=True)\n",
    "df2.show(10)"
   ]
  },
  {
   "cell_type": "markdown",
   "metadata": {},
   "source": [
    "### Validation Measures"
   ]
  },
  {
   "cell_type": "code",
   "execution_count": 8,
   "metadata": {},
   "outputs": [
    {
     "name": "stdout",
     "output_type": "stream",
     "text": [
      "+----------+---------------+---------------+-------+--------------+--------+-------+-------+----------------------------+---------------------------+\n",
      "|      Date|      MarketCap|EnterpriseValue|PeRatio|ForwardPeRatio|PegRatio|PsRatio|PbRatio|EnterprisesValueRevenueRatio|EnterprisesValueEBITDARatio|\n",
      "+----------+---------------+---------------+-------+--------------+--------+-------+-------+----------------------------+---------------------------+\n",
      "|       ttm|247,558,674,760|272,294,674,760| 23.182|         20.45|   2.698|  5.522|  9.404|                       6.047|                     17.509|\n",
      "| 9/30/2023|242,057,520,000|267,988,520,000| 23.228|        19.763|   2.582|  5.509|  9.305|                       22.42|                     63.883|\n",
      "| 6/30/2023|260,391,280,000|288,496,280,000| 26.529|        23.202|   3.282|  6.019| 10.326|                      24.098|                     81.611|\n",
      "| 3/31/2023|268,279,750,000|295,797,750,000| 28.324|        23.866|   3.378|  6.275|  11.13|                       26.94|                     62.789|\n",
      "|12/31/2022|275,082,288,723|301,449,288,723| 27.899|        25.189|   3.579|  6.537| 12.072|                      29.773|                     96.898|\n",
      "| 9/30/2022|242,230,480,000|272,512,480,000| 25.464|        21.552|   3.123|  5.898| 10.529|                      24.633|                     69.008|\n",
      "| 6/30/2022|272,716,657,215|304,061,657,215| 26.544|        25.445|   3.487|  6.815| 10.977|                      26.849|                    108.439|\n",
      "| 3/31/2022|268,769,685,040|298,905,685,040| 27.556|        25.189|   2.755|  6.961| 11.686|                      28.492|                     75.405|\n",
      "|12/31/2021|256,083,250,000|282,922,250,000| 29.167|        24.096|   2.617|   6.79| 11.547|                      29.895|                     81.628|\n",
      "| 9/30/2021|226,492,983,346|255,458,983,346| 28.059|        21.413|   2.412|  6.239|  10.18|                      25.439|                     69.874|\n",
      "+----------+---------------+---------------+-------+--------------+--------+-------+-------+----------------------------+---------------------------+\n",
      "only showing top 10 rows\n",
      "\n"
     ]
    }
   ],
   "source": [
    "df3 = spark.read.csv(path3, header=True, inferSchema=True)\n",
    "df3.show(10)"
   ]
  },
  {
   "cell_type": "markdown",
   "metadata": {},
   "source": [
    "### Income Statement"
   ]
  },
  {
   "cell_type": "code",
   "execution_count": 9,
   "metadata": {},
   "outputs": [],
   "source": [
    "df4 = spark.read.csv(path4, header=True, inferSchema=True)\n",
    "#df4.show(10)"
   ]
  },
  {
   "cell_type": "markdown",
   "metadata": {},
   "source": [
    "### Balence Sheet"
   ]
  },
  {
   "cell_type": "code",
   "execution_count": 10,
   "metadata": {},
   "outputs": [],
   "source": [
    "df5 = spark.read.csv(path5, header=True, inferSchema=True)\n",
    "#df5.show(10)"
   ]
  },
  {
   "cell_type": "markdown",
   "metadata": {},
   "source": [
    "### Cash Flow"
   ]
  },
  {
   "cell_type": "code",
   "execution_count": 11,
   "metadata": {},
   "outputs": [],
   "source": [
    "df6 = spark.read.csv(path6, header=True, inferSchema=True)\n",
    "#df6.show(10)"
   ]
  },
  {
   "cell_type": "markdown",
   "metadata": {},
   "source": [
    "### Merge Datasets: Valuation Measures, Income Statement, Balance Sheet, and Cash Flow."
   ]
  },
  {
   "cell_type": "code",
   "execution_count": 12,
   "metadata": {},
   "outputs": [],
   "source": [
    "merged_df = df3.join(df4, 'Date', 'inner') \\\n",
    "               .join(df5, 'Date', 'inner') \\\n",
    "               .join(df6, 'Date', 'inner')\n",
    "               \n",
    "# Save the merged DataFrame to a CSV file\n",
    "output_path = \"merged_data.csv\"\n",
    "#merged_df.write.csv(output_path, header=True, mode=\"overwrite\")\n",
    "#len(merged_df.columns)"
   ]
  },
  {
   "cell_type": "code",
   "execution_count": 13,
   "metadata": {},
   "outputs": [
    {
     "data": {
      "text/plain": [
       "214"
      ]
     },
     "execution_count": 13,
     "metadata": {},
     "output_type": "execute_result"
    }
   ],
   "source": [
    "merged_df = spark.read.csv(path7, header=True, inferSchema=True)\n",
    "len(merged_df.columns)"
   ]
  },
  {
   "cell_type": "markdown",
   "metadata": {},
   "source": [
    "### Removing columns with null values"
   ]
  },
  {
   "cell_type": "code",
   "execution_count": 14,
   "metadata": {},
   "outputs": [
    {
     "data": {
      "text/plain": [
       "102"
      ]
     },
     "execution_count": 14,
     "metadata": {},
     "output_type": "execute_result"
    }
   ],
   "source": [
    "# Identify columns without null values\n",
    "columns_without_null = [col_name for col_name in merged_df.columns if merged_df.filter(col(col_name).isNull()).count() == 0]\n",
    "# Identify colunmns with null values\n",
    "columns_with_null = [col_name for col_name in merged_df.columns if merged_df.filter(col(col_name).isNull()).count() != 0]\n",
    "\n",
    "# Select only columns without null values\n",
    "filtered_merged_df = merged_df.select(*columns_without_null)\n",
    "\n",
    "# Total number of columns without null values\n",
    "len(columns_without_null)\n",
    "len(filtered_merged_df.columns)"
   ]
  },
  {
   "cell_type": "code",
   "execution_count": 15,
   "metadata": {},
   "outputs": [],
   "source": [
    "# Save the filtered merged DataFrame to a CSV file\n",
    "output_path = \"filtered_merged_data.csv\"\n",
    "#filtered_merged_df.write.csv(output_path, header=True, mode=\"overwrite\")\n",
    "\n",
    "#filtered_merged_df = spark.read.csv(path8, header=True, inferSchema=True)\n",
    "#len(filtered_merged_df.columns)"
   ]
  },
  {
   "cell_type": "markdown",
   "metadata": {},
   "source": [
    "### Join filtered historical data and merged dataset"
   ]
  },
  {
   "cell_type": "code",
   "execution_count": 16,
   "metadata": {},
   "outputs": [
    {
     "data": {
      "text/plain": [
       "108"
      ]
     },
     "execution_count": 16,
     "metadata": {},
     "output_type": "execute_result"
    }
   ],
   "source": [
    "final_merged_df = df1.join(filtered_merged_df, 'Date', 'inner')\n",
    "\n",
    "# Save the merged DataFrame to a CSV file\n",
    "output_path = \"KO_filtered_merged_df.csv\"\n",
    "#final_merged_df.write.csv(output_path, header=True, mode=\"overwrite\")\n",
    "\n",
    "df9 = spark.read.csv(path9, header=True, inferSchema=True)\n",
    "len(df9.columns)"
   ]
  },
  {
   "cell_type": "markdown",
   "metadata": {},
   "source": [
    "## Financial Earnings Data: Quarterly"
   ]
  },
  {
   "cell_type": "code",
   "execution_count": 17,
   "metadata": {},
   "outputs": [
    {
     "data": {
      "text/plain": [
       "109"
      ]
     },
     "execution_count": 17,
     "metadata": {},
     "output_type": "execute_result"
    }
   ],
   "source": [
    "df10 = spark.read.csv(path10, header=True, inferSchema=True)\n",
    "len(df10.columns)"
   ]
  },
  {
   "cell_type": "markdown",
   "metadata": {},
   "source": [
    "### Add Rate of Return Column"
   ]
  },
  {
   "cell_type": "code",
   "execution_count": 18,
   "metadata": {},
   "outputs": [
    {
     "name": "stdout",
     "output_type": "stream",
     "text": [
      "23/12/06 22:46:06 WARN WindowExec: No Partition Defined for Window operation! Moving all data to a single partition, this can cause serious performance degradation.\n",
      "23/12/06 22:46:06 WARN WindowExec: No Partition Defined for Window operation! Moving all data to a single partition, this can cause serious performance degradation.\n",
      "23/12/06 22:46:06 WARN WindowExec: No Partition Defined for Window operation! Moving all data to a single partition, this can cause serious performance degradation.\n",
      "23/12/06 22:46:07 WARN WindowExec: No Partition Defined for Window operation! Moving all data to a single partition, this can cause serious performance degradation.\n",
      "23/12/06 22:46:07 WARN WindowExec: No Partition Defined for Window operation! Moving all data to a single partition, this can cause serious performance degradation.\n",
      "+----------+--------+--------+--------+--------+---------+---------+----------+---------+---------+--------+-----------+-------------------+\n",
      "|      Date|    Open|    High|     Low|   Close|Adj Close|   Volume|prev_Close|prev_Open|prev_High|prev_Low|prev_Volume|     Rate_of_Return|\n",
      "+----------+--------+--------+--------+--------+---------+---------+----------+---------+---------+--------+-----------+-------------------+\n",
      "|1962-01-03|0.259115|0.259115|0.253255|0.257161| 0.047447|1574400.0|  0.263021| 0.263021| 0.270182|0.263021|   806400.0|-2.2279593723655946|\n",
      "|1962-01-04|0.257813|0.261068|0.257813|0.259115| 0.047807| 844800.0|  0.257161| 0.259115| 0.259115|0.253255|  1574400.0| 0.7598427190701562|\n",
      "|1962-01-05|0.259115| 0.26237|0.252604|0.253255| 0.046726|1420800.0|  0.259115| 0.257813| 0.261068|0.257813|   844800.0| -2.261544337961531|\n",
      "|1962-01-08|0.251302|0.251302|0.245768|0.250651| 0.046246|2035200.0|  0.253255| 0.259115|  0.26237|0.252604|  1420800.0|-1.0282156805244822|\n",
      "|1962-01-09|0.250651| 0.25651|0.248698|0.255208| 0.047087| 960000.0|  0.250651| 0.251302| 0.251302|0.245768|  2035200.0| 1.8180592434271072|\n",
      "|1962-01-10|0.255208|0.260091|0.252604| 0.25651| 0.047327|1612800.0|  0.255208| 0.250651|  0.25651|0.248698|   960000.0|  0.510173636303231|\n",
      "|1962-01-11| 0.25651|0.259115|0.255208|0.259115| 0.047807| 614400.0|   0.25651| 0.255208| 0.260091|0.252604|  1612800.0| 1.0155631774753875|\n",
      "|1962-01-12|0.259115|0.259115|0.254557|0.257161| 0.047447| 883200.0|  0.259115|  0.25651| 0.259115|0.255208|   614400.0|-0.7541126490130435|\n",
      "|1962-01-15| 0.25651| 0.25651|0.253906|0.254557| 0.046966| 614400.0|  0.257161| 0.259115| 0.259115|0.254557|   883200.0|-1.0125866695963595|\n",
      "|1962-01-16|0.253906|0.253906|0.249674|    0.25| 0.046126|1113600.0|  0.254557|  0.25651|  0.25651|0.253906|   614400.0|-1.7901740159475203|\n",
      "|1962-01-17|    0.25|    0.25|0.242188|0.242188| 0.044684|1574400.0|      0.25| 0.253906| 0.253906|0.249674|  1113600.0|-3.1247973442077637|\n",
      "|1962-01-18|0.242188| 0.24349|0.236328|0.237305| 0.043783|2649600.0|  0.242188|     0.25|     0.25|0.242188|  1574400.0| -2.016204800085055|\n",
      "|1962-01-19|0.239583|0.244792|0.239583|0.244792| 0.045165|1459200.0|  0.237305| 0.242188|  0.24349|0.236328|  2649600.0| 3.1550110707706103|\n",
      "|1962-01-22|0.244792|0.247396|0.242188|0.246745| 0.045525|1075200.0|  0.244792| 0.239583| 0.244792|0.239583|  1459200.0|  0.797822557528245|\n",
      "|1962-01-23|0.246094|0.246094|0.241536|0.241536| 0.044564| 768000.0|  0.246745| 0.244792| 0.247396|0.242188|  1075200.0|-2.1110858609908205|\n",
      "|1962-01-24|0.241536|0.242188|0.234375|0.238932| 0.044084|2611200.0|  0.241536| 0.246094| 0.246094|0.241536|   768000.0|-1.0781033273250198|\n",
      "|1962-01-25|0.238932|0.242839|0.236979|0.236979| 0.043723|1574400.0|  0.238932| 0.241536| 0.242188|0.234375|  2611200.0|-0.8173898021479371|\n",
      "|1962-01-26|0.236979|0.236979|0.233073|0.234375| 0.043243|1574400.0|  0.236979| 0.238932| 0.242839|0.236979|  1574400.0|-1.0988285454341151|\n",
      "|1962-01-29|0.234375|0.235026|0.233724|0.234375| 0.043243| 307200.0|  0.234375| 0.236979| 0.236979|0.233073|  1574400.0|                0.0|\n",
      "|1962-01-30|0.234375|0.236328|0.233398|0.233398| 0.043063|1574400.0|  0.234375| 0.234375| 0.235026|0.233724|   307200.0|-0.4168510437011719|\n",
      "+----------+--------+--------+--------+--------+---------+---------+----------+---------+---------+--------+-----------+-------------------+\n",
      "only showing top 20 rows\n",
      "\n"
     ]
    }
   ],
   "source": [
    "# Convert the date column to a timestamp\n",
    "df = df1.withColumn(\"Date\", F.to_date(\"Date\"))\n",
    "\n",
    "# Define a window specification\n",
    "window_spec = Window().orderBy(\"Date\")\n",
    "\n",
    "# Calculate the rate of return using the lag function\n",
    "df = df.withColumn(\"prev_Close\", F.lag(\"Close\").over(window_spec))\n",
    "df = df.withColumn(\"prev_Open\", F.lag(\"Open\").over(window_spec))\n",
    "df = df.withColumn(\"prev_High\", F.lag(\"High\").over(window_spec))\n",
    "df = df.withColumn(\"prev_Low\", F.lag(\"Low\").over(window_spec))\n",
    "df = df.withColumn(\"prev_Volume\", F.lag(\"Volume\").over(window_spec))\n",
    "\n",
    "# Calculate the rate of return\n",
    "df = df.withColumn(\"Rate_of_Return\", ((df[\"Close\"] - df[\"prev_Close\"]) / df[\"prev_Close\"]) * 100)\n",
    "\n",
    "# Drop the columns used for lagging\n",
    "#df = df.drop(\"prev_close\") #, \"prev_close\", \"prev_high\", \"prev_low\", \"prev_volume\")\n",
    "\n",
    "# Drop rows with null values in the \"Rate_of_Return\" column\n",
    "df = df.dropna(subset=[\"Rate_of_Return\"])\n",
    "\n",
    "# Show the result\n",
    "df.show()"
   ]
  },
  {
   "cell_type": "markdown",
   "metadata": {},
   "source": [
    "# STEP 2: Data Splitting and Sampling\n",
    "\n",
    "(Sampling may not be needed, but splitting is a must)"
   ]
  },
  {
   "cell_type": "markdown",
   "metadata": {},
   "source": [
    "For all the models we used 80% of the data for training and 20% of the data for testing. This is performed during the model construction as many different datasets are used for various models. Please refer to STEP 4: Model Construction. "
   ]
  },
  {
   "cell_type": "markdown",
   "metadata": {},
   "source": [
    "# STEP 3: Exploratory Data Analysis\n",
    "\n",
    "(Include at least two graphs)"
   ]
  },
  {
   "cell_type": "markdown",
   "metadata": {},
   "source": [
    "## Historical Data: Daily"
   ]
  },
  {
   "cell_type": "code",
   "execution_count": 19,
   "metadata": {},
   "outputs": [
    {
     "data": {
      "image/png": "[encoded data removed]",
      "text/plain": [
       "<Figure size 1200x600 with 1 Axes>"
      ]
     },
     "metadata": {},
     "output_type": "display_data"
    }
   ],
   "source": [
    "# Assuming 'Date' and 'Volume' are column names in your DataFrame\n",
    "prices_and_volume = df1.select(\"Date\", \"Adj Close\", \"Volume\").collect()\n",
    "dates = [row.Date for row in prices_and_volume]\n",
    "prices = [row[\"Adj Close\"] for row in prices_and_volume]\n",
    "volume = [row.Volume for row in prices_and_volume]\n",
    "\n",
    "# Creating subplots\n",
    "fig, ax1 = plt.subplots(figsize=(12, 6))\n",
    "\n",
    "# Plotting stock prices on the first y-axis\n",
    "ax1.plot(dates, prices, color='red', label='Stock Price')\n",
    "ax1.set_xlabel(\"Date\")\n",
    "ax1.set_ylabel(\"Price\")\n",
    "ax1.tick_params(axis='y')\n",
    "ax1.set_title(\"Coca Cola's Daily Stock Price from 1962 to 2023\")\n",
    "\n",
    "\n",
    "# Displaying the plot\n",
    "plt.show()"
   ]
  },
  {
   "cell_type": "markdown",
   "metadata": {},
   "source": [
    "### Statistical Information"
   ]
  },
  {
   "cell_type": "code",
   "execution_count": 20,
   "metadata": {},
   "outputs": [
    {
     "name": "stdout",
     "output_type": "stream",
     "text": [
      "Mean Price: 17.44691300745597\n",
      "Standard Deviation Price: 18.399699444096413\n",
      "Correlation between Price and Volume: 0.47349443753791776\n"
     ]
    }
   ],
   "source": [
    "mean_price = df1.select(mean(\"Close\")).first()[0]\n",
    "stddev_price = df1.select(stddev(\"Close\")).first()[0]\n",
    "corr_price_volume = df1.select(corr(\"Close\", \"Volume\")).first()[0]\n",
    "\n",
    "print(\"Mean Price:\", mean_price)\n",
    "print(\"Standard Deviation Price:\", stddev_price)\n",
    "print(\"Correlation between Price and Volume:\", corr_price_volume)"
   ]
  },
  {
   "cell_type": "code",
   "execution_count": 21,
   "metadata": {},
   "outputs": [
    {
     "name": "stdout",
     "output_type": "stream",
     "text": [
      "+-------+------------------+------------------+------------------+------------------+------------------+-----------------+\n",
      "|summary|              Open|              High|               Low|             Close|         Adj Close|           Volume|\n",
      "+-------+------------------+------------------+------------------+------------------+------------------+-----------------+\n",
      "|  count|             15578|             15578|             15578|             15578|             15578|            15578|\n",
      "|   mean|17.443087905915117|17.584551596108934| 17.29806420616332| 17.44691300745597|12.287431249795091|9212160.328668635|\n",
      "| stddev| 18.39905733332124|18.532486456813324|18.260003923963637|18.399699444096413|15.744719260632824|7942933.496331465|\n",
      "|    min|          0.192708|          0.193359|          0.182292|          0.192057|          0.035927|          76800.0|\n",
      "|    max|              67.0|              67.2|             65.72|             66.21|          63.31803|        1.24169E8|\n",
      "+-------+------------------+------------------+------------------+------------------+------------------+-----------------+\n",
      "\n"
     ]
    }
   ],
   "source": [
    "df1.describe().show()"
   ]
  },
  {
   "cell_type": "code",
   "execution_count": 22,
   "metadata": {},
   "outputs": [
    {
     "data": {
      "image/png": "[encoded data removed]",
      "text/plain": [
       "<Figure size 640x480 with 2 Axes>"
      ]
     },
     "metadata": {},
     "output_type": "display_data"
    }
   ],
   "source": [
    "start_date = pd.to_datetime('1962-01-02')\n",
    "end_date = pd.to_datetime('2023-11-17')\n",
    "\n",
    "# Convert the 'Date' column to a datetime type in PySpark\n",
    "df1 = df1.withColumn('Date', F.to_date(df1['Date']))\n",
    "\n",
    "# Filter the DataFrame based on the date range\n",
    "df2 = df1.filter((df1['Date'] >= start_date) & (df1['Date'] <= end_date))\n",
    "\n",
    "# Convert the filtered DataFrame to a Pandas DataFrame for plotting\n",
    "pd_df2 = df2.toPandas()\n",
    "\n",
    "# Set the 'Date' column as the index\n",
    "pd_df2.set_index('Date', inplace=True)\n",
    "\n",
    "# Plotting\n",
    "fig, (top_plt, bottom_plt) = plt.subplots(2, 1, gridspec_kw={'height_ratios': [3, 1]}, sharex=True)\n",
    "\n",
    "# Top plot (stock prices)\n",
    "top_plt.plot(pd_df2.index, pd_df2[\"Close\"], color='red')\n",
    "top_plt.set_title(\"Coca Cola's Daily Stock Price from 1962 to 2023\")\n",
    "top_plt.set_ylabel('Stock Price')\n",
    "\n",
    "# Bottom plot (volume)\n",
    "bottom_plt.scatter(pd_df2.index, pd_df2['Volume'], color = \"black\", s=2)\n",
    "bottom_plt.set_ylabel('Volume')\n",
    "\n",
    "# Add x-axis label to the bottom plot\n",
    "bottom_plt.set_xlabel('Date')\n",
    "\n",
    "# Add labels on the right side\n",
    "top_plt.yaxis.set_label_coords(1.05, 0.5)\n",
    "bottom_plt.yaxis.set_label_coords(1.05, 0.5)\n",
    "\n",
    "# Adjust layout\n",
    "plt.tight_layout()\n",
    "\n",
    "# Show the plot\n",
    "plt.show()"
   ]
  },
  {
   "cell_type": "markdown",
   "metadata": {},
   "source": [
    "## Historical Data: Quaterly"
   ]
  },
  {
   "cell_type": "code",
   "execution_count": 23,
   "metadata": {},
   "outputs": [
    {
     "data": {
      "image/png": "[encoded data removed]",
      "text/plain": [
       "<Figure size 1200x600 with 1 Axes>"
      ]
     },
     "metadata": {},
     "output_type": "display_data"
    }
   ],
   "source": [
    "# Imports\n",
    "import matplotlib.pyplot as plt\n",
    "\n",
    "# Assuming 'Date' and 'Volume' are column names in your DataFrame\n",
    "prices_and_volume = df2.select(\"Date\", \"Adj Close\", \"Volume\").collect()\n",
    "dates = [row.Date for row in prices_and_volume]\n",
    "prices = [row[\"Adj Close\"] for row in prices_and_volume]\n",
    "volume = [row.Volume for row in prices_and_volume]\n",
    "\n",
    "# Creating subplots\n",
    "fig, ax1 = plt.subplots(figsize=(12, 6))\n",
    "\n",
    "# Plotting stock prices on the first y-axis\n",
    "ax1.plot(dates, prices, color='red', label='Stock Price')\n",
    "ax1.set_xlabel(\"Date\")\n",
    "ax1.set_ylabel(\"Price\")\n",
    "ax1.tick_params(axis='y')\n",
    "ax1.set_title(\"Coca Cola's Quarterly Stock Price from 1985 to 2023\")\n",
    "\n",
    "\n",
    "# Displaying the plot\n",
    "plt.show()"
   ]
  },
  {
   "cell_type": "markdown",
   "metadata": {},
   "source": [
    "### Statistical Information"
   ]
  },
  {
   "cell_type": "code",
   "execution_count": 24,
   "metadata": {},
   "outputs": [
    {
     "name": "stdout",
     "output_type": "stream",
     "text": [
      "Mean Price: 17.448016165446283\n",
      "Standard Deviation Price: 18.399774888439467\n",
      "Correlation between Price and Volume: 0.47346126218312706\n"
     ]
    }
   ],
   "source": [
    "mean_price = df2.select(mean(\"Close\")).first()[0]\n",
    "stddev_price = df2.select(stddev(\"Close\")).first()[0]\n",
    "corr_price_volume = df2.select(corr(\"Close\", \"Volume\")).first()[0]\n",
    "\n",
    "print(\"Mean Price:\", mean_price)\n",
    "print(\"Standard Deviation Price:\", stddev_price)\n",
    "print(\"Correlation between Price and Volume:\", corr_price_volume)"
   ]
  },
  {
   "cell_type": "code",
   "execution_count": 25,
   "metadata": {},
   "outputs": [
    {
     "name": "stdout",
     "output_type": "stream",
     "text": [
      "+-------+------------------+------------------+-----------------+------------------+------------------+-----------------+\n",
      "|summary|              Open|              High|              Low|             Close|         Adj Close|           Volume|\n",
      "+-------+------------------+------------------+-----------------+------------------+------------------+-----------------+\n",
      "|  count|             15577|             15577|            15577|             15577|             15577|            15577|\n",
      "|   mean|17.444190818344573| 17.58566313039555|17.29915780847531|17.448016165446283| 12.28821695328415| 9212699.95506195|\n",
      "| stddev| 18.39913296841806|18.532562057904435|18.26007989727352|18.399774888439467|15.744919259192999|7942902.898134615|\n",
      "|    min|          0.192708|          0.193359|         0.182292|          0.192057|          0.035927|          76800.0|\n",
      "|    max|              67.0|              67.2|            65.72|             66.21|          63.31803|        1.24169E8|\n",
      "+-------+------------------+------------------+-----------------+------------------+------------------+-----------------+\n",
      "\n"
     ]
    }
   ],
   "source": [
    "df2.describe().show()"
   ]
  },
  {
   "cell_type": "markdown",
   "metadata": {},
   "source": [
    "## Questions to Analyze Using PySpark\n",
    "\n",
    "In this section, we will give answers to some questions data using PySpark’s data preprocessing technique\n",
    "\n",
    "- What is the average adjusted closing price?\n",
    "- On what day stock price was the highest?\n",
    "- For how many days the adjusted closing value was less than the average?\n",
    "- On what days was the volume the higest? Show the top 20 dates.\n",
    "- What is the maximum and minimum volume of stock traded?"
   ]
  },
  {
   "cell_type": "markdown",
   "metadata": {},
   "source": [
    "**What is the average adjusted closing price?**"
   ]
  },
  {
   "cell_type": "code",
   "execution_count": 26,
   "metadata": {},
   "outputs": [
    {
     "name": "stdout",
     "output_type": "stream",
     "text": [
      "The average closing price is: 17.44691300745597\n"
     ]
    }
   ],
   "source": [
    "from pyspark.sql.functions import avg\n",
    "\n",
    "# Calculate the average closing price\n",
    "avg_close = df1.select(avg(\"Close\")).first()[0]\n",
    "\n",
    "print(f\"The average closing price is: {avg_close}\")"
   ]
  },
  {
   "cell_type": "markdown",
   "metadata": {},
   "source": [
    "**On what day stock price was the highest?**"
   ]
  },
  {
   "cell_type": "code",
   "execution_count": 27,
   "metadata": {},
   "outputs": [
    {
     "name": "stdout",
     "output_type": "stream",
     "text": [
      "On 2022-04-21, the stock price was the highest: 63.318031311035156\n"
     ]
    }
   ],
   "source": [
    "from pyspark.sql.functions import col, max\n",
    "\n",
    "# Assuming the closing price column is named 'Close'\n",
    "max_close_row = df1.select(\"Date\", \"Adj Close\").orderBy(col(\"Adj Close\").desc()).first()\n",
    "\n",
    "print(f\"On {max_close_row['Date']}, the stock price was the highest: {max_close_row['Adj Close']}\")"
   ]
  },
  {
   "cell_type": "markdown",
   "metadata": {},
   "source": [
    "**For how many days the adjusted closing value was less than the average?**"
   ]
  },
  {
   "cell_type": "code",
   "execution_count": 28,
   "metadata": {},
   "outputs": [
    {
     "name": "stdout",
     "output_type": "stream",
     "text": [
      "For 11658 days, the adjusted closing value was less than the average.\n",
      "This is 74.84% of the total days.\n"
     ]
    }
   ],
   "source": [
    "# Filter the days where the closing value was less than the average\n",
    "below_avg_days = df1.filter(col(\"Adj Close\") < avg_close).count()\n",
    "\n",
    "# Calculate the total number of days\n",
    "total_days = df1.count()\n",
    "\n",
    "# Calculate the percentage\n",
    "percentage_below_avg = (below_avg_days / total_days) * 100\n",
    "\n",
    "print(f\"For {below_avg_days} days, the adjusted closing value was less than the average.\")\n",
    "print(f\"This is {percentage_below_avg:.2f}% of the total days.\")"
   ]
  },
  {
   "cell_type": "markdown",
   "metadata": {},
   "source": [
    "**On what days was the volume the higest? Show the top 20 dates.**"
   ]
  },
  {
   "cell_type": "code",
   "execution_count": 29,
   "metadata": {},
   "outputs": [
    {
     "name": "stdout",
     "output_type": "stream",
     "text": [
      "+----------+--------+--------+--------+--------+---------+-----------+\n",
      "|      Date|    Open|    High|     Low|   Close|Adj Close|     Volume|\n",
      "+----------+--------+--------+--------+--------+---------+-----------+\n",
      "|2009-09-18|   26.84|   27.06|   26.65|   26.88|17.449154|  1.24169E8|\n",
      "|1985-09-09|1.463542|1.476563|1.427083|  1.4375| 0.576012|  1.10784E8|\n",
      "|1984-03-15|1.117188|1.122396|1.117188|1.122396| 0.425084|  1.03776E8|\n",
      "|2012-09-21|   38.73|   38.74|   37.88|   38.03|26.943003|9.8967504E7|\n",
      "|1985-06-10|1.445313|1.445313|1.427083|1.432292| 0.567748|   8.2656E7|\n",
      "|1984-01-12|1.111979|1.114583|1.052083|1.065104| 0.398109|  8.16096E7|\n",
      "|2008-07-17|    25.6|   25.68|   24.85|   25.17|15.655744|  7.92144E7|\n",
      "|1985-04-25|1.434896|1.445313|1.408854|1.416667| 0.561554|   7.3968E7|\n",
      "|2008-10-10|  21.025|  22.525|  20.145|   20.75|12.998294|  7.35672E7|\n",
      "|1985-07-10| 1.46875|1.515625| 1.46875|1.507813| 0.604187|   6.9264E7|\n",
      "|2021-03-19|   50.46|   51.08|   50.17|   50.81| 47.13688|6.7845696E7|\n",
      "|2010-02-25|   26.57|   26.79|  26.305|   26.56|17.363937|  6.36486E7|\n",
      "|1987-10-20|  1.9375|   2.625|  1.9375| 2.28125|  0.97773|    6.364E7|\n",
      "|1985-07-11|1.510417|1.559896|1.510417|1.557292| 0.624013|    6.312E7|\n",
      "|2010-02-26|  26.545|  26.545|  26.115|   26.36|17.233181|  6.30954E7|\n",
      "|2008-06-13|  28.515|   28.55|   26.96|   27.71|17.235622|  6.17566E7|\n",
      "|2004-09-15|   20.41|   20.62|   20.19|   20.58| 11.60003|  6.14062E7|\n",
      "|2009-02-12|  21.325|  22.225|  21.075|  22.195|14.021696|  6.12262E7|\n",
      "|2023-05-31|   59.92|   60.28|   59.37|   59.66|58.743015|  5.94322E7|\n",
      "|2021-05-27|   55.21|   55.57|   54.78|   55.49|51.478565|  5.91096E7|\n",
      "+----------+--------+--------+--------+--------+---------+-----------+\n",
      "\n"
     ]
    }
   ],
   "source": [
    "# register stock dataFrame as temp view with name \"stocks\"\n",
    "df1.createOrReplaceTempView(\"stocks\")\n",
    "\n",
    "# query the view to get the top 20 dates with the highest volume\n",
    "sqlDF1 = spark.sql(\"SELECT * FROM stocks ORDER BY Volume DESC LIMIT 20\")\n",
    "sqlDF1.show()"
   ]
  },
  {
   "cell_type": "markdown",
   "metadata": {},
   "source": [
    "**What is the maximum and minimum volume of stock traded?**"
   ]
  },
  {
   "cell_type": "code",
   "execution_count": 30,
   "metadata": {},
   "outputs": [
    {
     "name": "stdout",
     "output_type": "stream",
     "text": [
      "On 2009-09-18, the maximum volume of 124169000.0 stocks was traded.\n",
      "On 1963-10-16, the minimum volume of 76800.0 stocks was traded.\n"
     ]
    }
   ],
   "source": [
    "from pyspark.sql.functions import desc, asc\n",
    "\n",
    "# Assuming 'Date' and 'Volume' are column names in your DataFrame\n",
    "max_volume_row = df1.orderBy(desc('Volume')).first()\n",
    "min_volume_row = df1.orderBy(asc('Volume')).first()\n",
    "\n",
    "# Extracting date and volume information\n",
    "max_volume_date = max_volume_row['Date']\n",
    "max_volume_value = max_volume_row['Volume']\n",
    "\n",
    "min_volume_date = min_volume_row['Date']\n",
    "min_volume_value = min_volume_row['Volume']\n",
    "\n",
    "# Printing the results\n",
    "print(f\"On {max_volume_date}, the maximum volume of {max_volume_value} stocks was traded.\")\n",
    "print(f\"On {min_volume_date}, the minimum volume of {min_volume_value} stocks was traded.\")"
   ]
  },
  {
   "cell_type": "markdown",
   "metadata": {},
   "source": [
    "## Financial Earnings Data: Quarterly"
   ]
  },
  {
   "cell_type": "markdown",
   "metadata": {},
   "source": [
    "### Correlation between independent variables and target variable\n",
    "\n",
    "Correlation is a statistical measure that quantifies the degree to which two variables are related. A high positive correlation indicates a strong positive relationship, while a high negative correlation indicates a strong negative relationship. In here, we will look at the features with the highest correlation."
   ]
  },
  {
   "cell_type": "code",
   "execution_count": 31,
   "metadata": {},
   "outputs": [],
   "source": [
    "feature_columns = df10.columns\n",
    "feature_columns.remove('Adj Close')\n",
    "feature_columns.remove('Date')\n",
    "# Convert the TaxEffectOfUnusualItems column from string to double \n",
    "df10 = df10.withColumn(\"TaxEffectOfUnusualItems\", col(\"TaxEffectOfUnusualItems\").cast(\"double\"))"
   ]
  },
  {
   "cell_type": "code",
   "execution_count": 32,
   "metadata": {},
   "outputs": [
    {
     "name": "stdout",
     "output_type": "stream",
     "text": [
      "                                          Feature  Correlation\n",
      "3                                           Close     0.969214\n",
      "2                                             Low     0.968765\n",
      "0                                            Open     0.962377\n",
      "1                                            High     0.962049\n",
      "7                                 EnterpriseValue     0.958147\n",
      "64  TotalNonCurrentLiabilitiesNetMinorityInterest     0.944083\n",
      "6                                       MarketCap     0.937978\n",
      "66                                   LongTermDebt     0.937168\n",
      "65          LongTermDebtAndCapitalLeaseObligation     0.937168\n",
      "69                     OtherNonCurrentLiabilities     0.925659\n"
     ]
    }
   ],
   "source": [
    "import six\n",
    "import pandas as pd\n",
    "\n",
    "correlation_list = []\n",
    "\n",
    "# iterate through the columns of the DataFrame\n",
    "for i in feature_columns:\n",
    "    # check if the column is not a string type\n",
    "    if not isinstance(df10.select(i).take(1)[0][0], six.string_types):\n",
    "        # calculate the correlation with 'Adj Close'\n",
    "        correlation_value = df10.stat.corr('Adj Close', i)\n",
    "        \n",
    "        # append the pair (feature, correlation) to the list\n",
    "        correlation_list.append((i, correlation_value))\n",
    "\n",
    "# convert the list to a DataFrame\n",
    "correlation_df = pd.DataFrame(correlation_list, columns=['Feature', 'Correlation'])\n",
    "\n",
    "# sort the DataFrame by absolute correlation in descending order\n",
    "correlation_df = correlation_df.sort_values(by='Correlation', ascending=False)\n",
    "\n",
    "print(correlation_df.head(10))"
   ]
  },
  {
   "cell_type": "markdown",
   "metadata": {},
   "source": [
    "# STEP 4: Model Construction\n",
    "\n",
    "(Ideally the models are constructed using pipelines)"
   ]
  },
  {
   "cell_type": "markdown",
   "metadata": {},
   "source": [
    "## Regression: Linear Regression, Gradient-boosted trees, and Random Forest"
   ]
  },
  {
   "cell_type": "markdown",
   "metadata": {},
   "source": [
    "## Linear Regression"
   ]
  },
  {
   "cell_type": "markdown",
   "metadata": {},
   "source": [
    "### Linear Regression: Historical Data"
   ]
  },
  {
   "cell_type": "code",
   "execution_count": null,
   "metadata": {},
   "outputs": [],
   "source": [
    "# Replace \"target_column\" with the actual column name of your target variable\n",
    "target_column = \"Close\"\n",
    "#features_columns = [\"Open\", \"High\", \"Low\", \"Close\", \"Volume\"]\n",
    "features_columns = [\"Open\", \"prev_High\", \"prev_Low\", \"prev_Close\", \"prev_Volume\"]\n",
    "#\"High\", \"Low\", \"Volume\", \"prev_Open\",\n",
    "\n",
    "# Assemble the features into a vector\n",
    "assembler = VectorAssembler(inputCols=features_columns, outputCol=\"features\")\n",
    "data_assembled = assembler.transform(df)\n",
    "\n",
    "scaler = StandardScaler(inputCol=\"features\", outputCol=\"scaledFeatures\")\n",
    "scalerModel = scaler.fit(data_assembled)\n",
    "scaledData = scalerModel.transform(data_assembled)\n",
    "\n",
    "# Split the data into training and testing sets\n",
    "(train_data, test_data) = scaledData.randomSplit([0.8, 0.2], seed=333)\n",
    "\n",
    "# Initialize the logistic regression model\n",
    "lr = GeneralizedLinearRegression(labelCol=target_column, featuresCol=\"scaledFeatures\",\n",
    "                      family=\"gaussian\", link=\"identity\",\n",
    "                      maxIter=10,\n",
    "                      regParam=0.3) \n",
    "\n",
    "# Create a pipeline with the assembler and the logistic regression model\n",
    "#pipeline = Pipeline(stages=[lr])\n",
    "\n",
    "# Train the model\n",
    "model = lr.fit(train_data)\n",
    "\n",
    "# Print the weights and intercept for linear regression\n",
    "print(\"Weights: \" + str(model.coefficients))\n",
    "print(\"Intercept: \" + str(model.intercept))\n",
    "\n",
    "summary = model.summary\n",
    "print(\"Coefficient Standard Errors: \" + str(summary.coefficientStandardErrors))\n",
    "print(\"T Values: \" + str(summary.tValues))\n",
    "print(\"P Values: \" + str(summary.pValues))\n",
    "print(\"Dispersion: \" + str(summary.dispersion))\n",
    "print(\"Null Deviance: \" + str(summary.nullDeviance))\n",
    "print(\"Residual Degree Of Freedom Null: \" + str(summary.residualDegreeOfFreedomNull))\n",
    "print(\"Deviance: \" + str(summary.deviance))\n",
    "print(\"Residual Degree Of Freedom: \" + str(summary.residualDegreeOfFreedom))\n",
    "print(\"AIC: \" + str(summary.aic))\n",
    "print(\"Deviance Residuals: \")\n",
    "summary.residuals().show()"
   ]
  },
  {
   "cell_type": "code",
   "execution_count": null,
   "metadata": {},
   "outputs": [],
   "source": [
    "# compute predictions. this will append column \"prediction\" to dataframe\n",
    "lrPred = model.transform(test_data)\n",
    "lrPred = lrPred.withColumn(\"prediction\", F.abs(lrPred[\"prediction\"]))\n",
    "\n",
    "ev = RegressionEvaluator(predictionCol=\"prediction\", labelCol=\"Adj Close\")\n",
    "\n",
    "print(\"METRICS\")\n",
    "print(\"MAE:\", ev.evaluate(lrPred, {ev.metricName:'mae'}))\n",
    "print(\"Mean Squared Error:\", ev.evaluate(lrPred, {ev.metricName: \"rmse\"}))\n",
    "print(\"R Squared:\", ev.evaluate(lrPred, {ev.metricName:'r2'}))"
   ]
  },
  {
   "cell_type": "markdown",
   "metadata": {},
   "source": [
    "### Linear Regression: Financial Earnings Data on subset columns"
   ]
  },
  {
   "cell_type": "code",
   "execution_count": null,
   "metadata": {},
   "outputs": [],
   "source": [
    "# Define a list of columns you want to include in the subset\n",
    "selected_columns = [\"Date\", \"Adj Close\", \"PercentChangeClose\", \"PeRatio\", \"PsRatio\", \"PbRatio\",\"TotalRevenue\",\"GrossProfit\", \n",
    "                    \"EnterprisesValueRevenueRatio\", \"EnterprisesValueEBITDARatio\", \"OperatingExpense\", \n",
    "                    \"OperatingIncome\", \"NetIncome\", \"BasicEPS\", \"TotalExpenses\", \n",
    "                    \"NormalizedIncome\", \"EBIT\", \"EBITDA\", \"TotalAssets\", \"CashAndCashEquivalents\", \n",
    "                    \"NetPPE\", \"GrossPPE\", \"TotalDebt\", \"RetainedEarnings\"]\n",
    "\n",
    "# Use the select function to create a new DataFrame with the subset of columns\n",
    "new_df = df10.select(selected_columns)"
   ]
  },
  {
   "cell_type": "code",
   "execution_count": null,
   "metadata": {},
   "outputs": [],
   "source": [
    "new_df = new_df.withColumn(\"ROI\", new_df[\"PercentChangeClose\"]-1)\n",
    "new_df.select(\"PercentChangeClose\",\"ROI\").show(10,truncate=False)"
   ]
  },
  {
   "cell_type": "code",
   "execution_count": null,
   "metadata": {},
   "outputs": [],
   "source": [
    "# Assuming your data is in a DataFrame called \"data\"\n",
    "# Replace \"target_column\" with the actual column name of your target variable\n",
    "target_column = \"Adj Close\"\n",
    "#target_column2 = \"ROI\"\n",
    "features_columns = [\"PeRatio\", \"PsRatio\", \"PbRatio\",\"TotalRevenue\",\"GrossProfit\", \n",
    "                    \"EnterprisesValueRevenueRatio\", \"EnterprisesValueEBITDARatio\", \"OperatingExpense\", \n",
    "                    \"OperatingIncome\", \"NetIncome\", \"BasicEPS\", \"TotalExpenses\", \n",
    "                    \"NormalizedIncome\", \"EBIT\", \"EBITDA\", \"TotalAssets\", \"CashAndCashEquivalents\", \n",
    "                    \"NetPPE\", \"GrossPPE\", \"TotalDebt\", \"RetainedEarnings\"]\n",
    "\n",
    "# Assemble the features into a vector\n",
    "assembler = VectorAssembler(inputCols=features_columns, outputCol=\"features\")\n",
    "data_assembled = assembler.transform(new_df)\n",
    "\n",
    "scaler = StandardScaler(inputCol=\"features\", outputCol=\"scaledFeatures\")\n",
    "scalerModel = scaler.fit(data_assembled)\n",
    "scaledData = scalerModel.transform(data_assembled)\n",
    "\n",
    "# Split the data into training and testing sets\n",
    "(train_data, test_data) = scaledData.randomSplit([0.8, 0.2], seed=3)\n",
    "\n",
    "# Initialize the logistic regression model\n",
    "lr = GeneralizedLinearRegression(labelCol=target_column, featuresCol=\"scaledFeatures\",\n",
    "                      family=\"gaussian\", link=\"identity\",\n",
    "                       maxIter=10,\n",
    "                      regParam=0.3) \n",
    "                      #elasticNetParam=0.8)\n",
    "\n",
    "# Create a pipeline with the assembler and the logistic regression model\n",
    "#pipeline = Pipeline(stages=[lr])\n",
    "\n",
    "# Train the model\n",
    "model = lr.fit(train_data)\n",
    "\n",
    "# Print the weights and intercept for linear regression\n",
    "print(\"Weights: \" + str(model.coefficients))\n",
    "print(\"Intercept: \" + str(model.intercept))\n",
    "\n",
    "# Display summary metrics\n",
    "print(\"Coefficient Standard Errors:\", summary.coefficientStandardErrors)\n",
    "print(\"T Values:\", summary.tValues)\n",
    "print(\"P Values:\", summary.pValues)\n",
    "print(\"Dispersion:\", summary.dispersion)\n",
    "print(\"Null Deviance:\", summary.nullDeviance)\n",
    "print(\"Residual Degree Of Freedom Null:\", summary.residualDegreeOfFreedomNull)\n",
    "print(\"Deviance:\", summary.deviance)\n",
    "print(\"Residual Degree Of Freedom:\", summary.residualDegreeOfFreedom)\n",
    "print(\"AIC:\", summary.aic)\n",
    "\n",
    "# Deviance Residuals\n",
    "print(\"Deviance Residuals:\")\n",
    "summary.residuals().show()"
   ]
  },
  {
   "cell_type": "markdown",
   "metadata": {},
   "source": [
    "### Extract p-values or t-values for each feature"
   ]
  },
  {
   "cell_type": "code",
   "execution_count": null,
   "metadata": {},
   "outputs": [],
   "source": [
    "p_values = summary.pValues\n",
    "t_values = summary.tValues\n",
    "\n",
    "coefficients_double = [float(x) for x in model.coefficients]\n",
    "\n",
    "# Create a DataFrame with feature names, coefficients, p-values, and t-values\n",
    "feature_importance_df = spark.createDataFrame(list(zip(features_columns, coefficients_double, summary.coefficientStandardErrors, p_values, t_values)),\n",
    "                                             [\"Feature\", \"Coeff\", \"Coefficient Std Err\", \"P-value\", \"T-value\"])\n",
    "\n",
    "# Show the feature importance DataFrame\n",
    "feature_importance_df.show(10)\n",
    "\n",
    "# You can filter the DataFrame based on p-values or t-values to identify significant features\n",
    "significant_features = feature_importance_df.filter(F.col(\"P-value\") < 0.05)\n",
    "\n",
    "# Show significant features\n",
    "significant_features.show()"
   ]
  },
  {
   "cell_type": "code",
   "execution_count": null,
   "metadata": {},
   "outputs": [],
   "source": [
    "### Use `StandardScaler` to scale the features"
   ]
  },
  {
   "cell_type": "code",
   "execution_count": null,
   "metadata": {},
   "outputs": [],
   "source": [
    "scaledData.select(\"features\",\"scaledFeatures\").show(10)"
   ]
  },
  {
   "cell_type": "code",
   "execution_count": null,
   "metadata": {},
   "outputs": [],
   "source": [
    "# compute predictions. this will append column \"prediction\" to dataframe\n",
    "lrPred = model.transform(test_data)\n",
    "lrPred = lrPred.withColumn(\"prediction\", F.abs(lrPred[\"prediction\"]))\n",
    "lrPred.select(\"Date\",\"Adj Close\",\"PercentChangeClose\",\"prediction\").show(10)\n",
    "\n",
    "ev = RegressionEvaluator(predictionCol=\"prediction\", labelCol=\"Adj Close\")\n",
    "\n",
    "print(\"METRICS\")\n",
    "print(\"MAE:\", ev.evaluate(lrPred, {ev.metricName:'mae'}))\n",
    "print(\"Root Mean Squared Error:\", ev.evaluate(lrPred, {ev.metricName: \"rmse\"}))\n",
    "print(\"R Squared:\", ev.evaluate(lrPred, {ev.metricName:'r2'}))"
   ]
  },
  {
   "cell_type": "markdown",
   "metadata": {},
   "source": [
    "## Gradient-boosted Trees"
   ]
  },
  {
   "cell_type": "markdown",
   "metadata": {},
   "source": [
    "### Gradient-boosted Trees: Historical Data"
   ]
  },
  {
   "cell_type": "code",
   "execution_count": null,
   "metadata": {},
   "outputs": [],
   "source": [
    "feature_columns = df1.columns\n",
    "feature_columns.remove('Adj Close')\n",
    "feature_columns.remove('Date')\n",
    "\n",
    "assembler = VectorAssembler(inputCols=feature_columns, outputCol='features')\n",
    "\n",
    "# Split the data into training and testing sets\n",
    "(training_data, testing_data) = df1.randomSplit([0.8, 0.2], seed=1234)\n",
    "\n",
    "# Create a GBTRegressor\n",
    "gbt = GBTRegressor(featuresCol='features', labelCol='Adj Close', maxDepth=5, maxBins=32, maxIter=20, seed=42)\n",
    "\n",
    "# Create a pipeline\n",
    "pipeline = Pipeline(stages=[assembler, gbt])\n",
    "\n",
    "# Fit the model\n",
    "model = pipeline.fit(training_data)\n",
    "\n",
    "# Make predictions on the testing set\n",
    "predictions = model.transform(testing_data)\n",
    "\n",
    "# Evaluate RMSE\n",
    "evaluator = RegressionEvaluator(labelCol=\"Adj Close\", predictionCol=\"prediction\", metricName=\"rmse\")\n",
    "rmse = evaluator.evaluate(predictions)\n",
    "print(f\"Root Mean Squared Error (RMSE) on the test data: {rmse}\")\n",
    "# Evaluate R-squared\n",
    "evaluator_r2 = RegressionEvaluator(labelCol=\"Adj Close\", predictionCol=\"prediction\", metricName=\"r2\")\n",
    "r2 = evaluator_r2.evaluate(predictions)\n",
    "print(f\"R-Squared on the test data: {r2}\")\n",
    "# Evaluate MAE\n",
    "evaluator_r2 = RegressionEvaluator(labelCol=\"Adj Close\", predictionCol=\"prediction\", metricName=\"mae\")\n",
    "mae = evaluator_r2.evaluate(predictions)\n",
    "print(f\"MAE on the test data: {mae}\")"
   ]
  },
  {
   "cell_type": "code",
   "execution_count": null,
   "metadata": {},
   "outputs": [],
   "source": [
    "import matplotlib.pyplot as plt\n",
    "import pandas as pd\n",
    "\n",
    "# Convert PySpark DataFrame to Pandas DataFrame\n",
    "predictions_pd = predictions.select(\"Date\", \"Adj Close\", \"prediction\").toPandas()\n",
    "\n",
    "# Convert the 'Date' column to datetime type\n",
    "predictions_pd['Date'] = pd.to_datetime(predictions_pd['Date'])\n",
    "\n",
    "# Sorting the DataFrame by 'Date' for proper plotting\n",
    "predictions_pd = predictions_pd.sort_values(by='Date')\n",
    "\n",
    "# Plotting\n",
    "plt.figure(figsize=(12, 6))\n",
    "plt.plot(predictions_pd['Date'], predictions_pd['Adj Close'], label='Actual Values', color='red')\n",
    "plt.plot(predictions_pd['Date'], predictions_pd['prediction'], label='Predicted Values', color='black')\n",
    "plt.title('Actual vs Predicted Values Over Time')\n",
    "plt.xlabel('Date')\n",
    "plt.ylabel('Value')\n",
    "plt.legend()\n",
    "plt.grid(True)\n",
    "plt.show()"
   ]
  },
  {
   "cell_type": "markdown",
   "metadata": {},
   "source": [
    "## Experiment: Can more features compensate for less data?"
   ]
  },
  {
   "cell_type": "markdown",
   "metadata": {},
   "source": [
    "### Gradient-boosted Trees: Financial Earnings Data (all columns)"
   ]
  },
  {
   "cell_type": "code",
   "execution_count": null,
   "metadata": {},
   "outputs": [],
   "source": [
    "feature_columns = df10.columns\n",
    "feature_columns.remove('Adj Close')\n",
    "feature_columns.remove('Date')\n",
    "\n",
    "# Convert the TaxEffectOfUnusualItems column from string to double \n",
    "df10 = df10.withColumn(\"TaxEffectOfUnusualItems\", col(\"TaxEffectOfUnusualItems\").cast(\"double\"))\n",
    "#df10. printSchema()\n",
    "\n",
    "assembler = VectorAssembler(inputCols=feature_columns, outputCol='features', handleInvalid=\"skip\")\n",
    "\n",
    "# Split the data into training and testing sets\n",
    "(training_data, testing_data) = df10.randomSplit([0.8, 0.2], seed=1234)\n",
    "\n",
    "training_data = training_data.na.drop()\n",
    "\n",
    "# Create a GBTRegressor\n",
    "gbt = GBTRegressor(featuresCol='features', labelCol='Adj Close', maxDepth=5, maxBins=32, maxIter=20, seed=42)\n",
    "\n",
    "# Create a pipeline\n",
    "pipeline = Pipeline(stages=[assembler, gbt])\n",
    "\n",
    "# Fit the model\n",
    "model = pipeline.fit(training_data)\n",
    "\n",
    "# Make predictions on the testing set\n",
    "predictions = model.transform(testing_data)\n",
    "\n",
    "# Evaluate RMSE\n",
    "evaluator = RegressionEvaluator(labelCol=\"Adj Close\", predictionCol=\"prediction\", metricName=\"rmse\")\n",
    "rmse = evaluator.evaluate(predictions)\n",
    "print(f\"Root Mean Squared Error (RMSE) on the test data: {rmse}\")\n",
    "# Evaluate R-squared\n",
    "evaluator_r2 = RegressionEvaluator(labelCol=\"Adj Close\", predictionCol=\"prediction\", metricName=\"r2\")\n",
    "r2 = evaluator_r2.evaluate(predictions)\n",
    "print(f\"R-Squared on the test data: {r2}\")\n",
    "# Evaluate MAE\n",
    "evaluator_r2 = RegressionEvaluator(labelCol=\"Adj Close\", predictionCol=\"prediction\", metricName=\"mae\")\n",
    "mae = evaluator_r2.evaluate(predictions)\n",
    "print(f\"MAE on the test data: {mae}\")"
   ]
  },
  {
   "cell_type": "code",
   "execution_count": null,
   "metadata": {},
   "outputs": [],
   "source": [
    "import matplotlib.pyplot as plt\n",
    "import pandas as pd\n",
    "\n",
    "# Convert PySpark DataFrame to Pandas DataFrame\n",
    "predictions_pd = predictions.select(\"Date\", \"Adj Close\", \"prediction\").toPandas()\n",
    "\n",
    "# Convert the 'Date' column to datetime type\n",
    "predictions_pd['Date'] = pd.to_datetime(predictions_pd['Date'])\n",
    "\n",
    "# Sorting the DataFrame by 'Date' for proper plotting\n",
    "predictions_pd = predictions_pd.sort_values(by='Date')\n",
    "\n",
    "# Plotting\n",
    "plt.figure(figsize=(12, 6))\n",
    "plt.plot(predictions_pd['Date'], predictions_pd['Adj Close'], label='Actual Values', color='red')\n",
    "plt.plot(predictions_pd['Date'], predictions_pd['prediction'], label='Predicted Values', color='black')\n",
    "plt.title('Actual vs Predicted Values Over Time')\n",
    "plt.xlabel('Date')\n",
    "plt.ylabel('Value')\n",
    "plt.legend()\n",
    "plt.grid(True)\n",
    "plt.show()"
   ]
  },
  {
   "cell_type": "markdown",
   "metadata": {},
   "source": [
    "### Gradient-boosted Trees: Financial Earnings Data (Open, High, Low, Volume)"
   ]
  },
  {
   "cell_type": "code",
   "execution_count": null,
   "metadata": {},
   "outputs": [],
   "source": [
    "df10 = spark.read.csv(path10, header=True, inferSchema=True)\n",
    "# Convert the TaxEffectOfUnusualItems column from string to double \n",
    "df10 = df10.drop(\"TaxEffectOfUnusualItems\")\n",
    "#df10. printSchema()\n",
    "\n",
    "feature_columns = ['Open', 'High', 'Low', 'Volume']"
   ]
  },
  {
   "cell_type": "code",
   "execution_count": null,
   "metadata": {},
   "outputs": [],
   "source": [
    "assembler = VectorAssembler(inputCols=feature_columns, outputCol='features')\n",
    "\n",
    "# Split the data into training and testing sets\n",
    "(training_data, testing_data) = df10.randomSplit([0.8, 0.2], seed=1234)\n",
    "\n",
    "training_data = training_data.na.drop()\n",
    "\n",
    "# Create a GBTRegressor\n",
    "gbt = GBTRegressor(featuresCol='features', labelCol='Adj Close', maxDepth=5, maxBins=32, maxIter=20, seed=42)\n",
    "\n",
    "# Create a pipeline\n",
    "pipeline = Pipeline(stages=[assembler, gbt])\n",
    "\n",
    "# Fit the model\n",
    "model = pipeline.fit(training_data)\n",
    "\n",
    "# Make predictions on the testing set\n",
    "predictions = model.transform(testing_data)\n",
    "\n",
    "# Evaluate RMSE\n",
    "evaluator = RegressionEvaluator(labelCol=\"Adj Close\", predictionCol=\"prediction\", metricName=\"rmse\")\n",
    "rmse = evaluator.evaluate(predictions)\n",
    "print(f\"Root Mean Squared Error (RMSE) on the test data: {rmse}\")\n",
    "# Evaluate R-squared\n",
    "evaluator_r2 = RegressionEvaluator(labelCol=\"Adj Close\", predictionCol=\"prediction\", metricName=\"r2\")\n",
    "r2 = evaluator_r2.evaluate(predictions)\n",
    "print(f\"R-Squared on the test data: {r2}\")\n",
    "# Evaluate MAE\n",
    "evaluator_r2 = RegressionEvaluator(labelCol=\"Adj Close\", predictionCol=\"prediction\", metricName=\"mae\")\n",
    "mae = evaluator_r2.evaluate(predictions)\n",
    "print(f\"MAE on the test data: {mae}\")"
   ]
  },
  {
   "cell_type": "code",
   "execution_count": null,
   "metadata": {},
   "outputs": [],
   "source": [
    "import matplotlib.pyplot as plt\n",
    "import pandas as pd\n",
    "\n",
    "# Convert PySpark DataFrame to Pandas DataFrame\n",
    "predictions_pd = predictions.select(\"Date\", \"Adj Close\", \"prediction\").toPandas()\n",
    "\n",
    "# Convert the 'Date' column to datetime type\n",
    "predictions_pd['Date'] = pd.to_datetime(predictions_pd['Date'])\n",
    "\n",
    "# Sorting the DataFrame by 'Date' for proper plotting\n",
    "predictions_pd = predictions_pd.sort_values(by='Date')\n",
    "\n",
    "# Plotting\n",
    "plt.figure(figsize=(12, 6))\n",
    "plt.plot(predictions_pd['Date'], predictions_pd['Adj Close'], label='Actual Values', color='red')\n",
    "plt.plot(predictions_pd['Date'], predictions_pd['prediction'], label='Predicted Values', color='black')\n",
    "plt.title('Actual vs Predicted Values Over Time')\n",
    "plt.xlabel('Date')\n",
    "plt.ylabel('Value')\n",
    "plt.legend()\n",
    "plt.grid(True)\n",
    "plt.show()"
   ]
  },
  {
   "cell_type": "markdown",
   "metadata": {},
   "source": [
    "## Random Forest"
   ]
  },
  {
   "cell_type": "markdown",
   "metadata": {},
   "source": [
    "### Random Forest: Historical Data"
   ]
  },
  {
   "cell_type": "code",
   "execution_count": null,
   "metadata": {},
   "outputs": [],
   "source": [
    "feature_columns = df1.columns\n",
    "feature_columns.remove('Adj Close')\n",
    "feature_columns.remove('Date')\n",
    "df1 = df1.orderBy(col('Date'))"
   ]
  },
  {
   "cell_type": "code",
   "execution_count": null,
   "metadata": {},
   "outputs": [],
   "source": [
    "# Define the feature assembler\n",
    "assembler = VectorAssembler(inputCols=feature_columns, outputCol='features')\n",
    "\n",
    "# Split the data into training and testing sets\n",
    "(training_data, testing_data) = df1.randomSplit([0.8, 0.2], seed=1234)\n",
    "\n",
    "# Create a RandomForestRegressor\n",
    "rf = RandomForestRegressor(featuresCol='features', labelCol=\"Adj Close\", numTrees=100, maxDepth=5, seed=42)\n",
    "\n",
    "# Create a pipeline\n",
    "pipeline = Pipeline(stages=[assembler, rf])\n",
    "\n",
    "# Fit the model\n",
    "model = pipeline.fit(training_data)\n",
    "\n",
    "# Make predictions on the testing set\n",
    "predictions = model.transform(testing_data)\n",
    "\n",
    "# Evaluate RMSE\n",
    "evaluator = RegressionEvaluator(labelCol=\"Adj Close\", predictionCol=\"prediction\", metricName=\"rmse\")\n",
    "rmse = evaluator.evaluate(predictions)\n",
    "print(f\"Root Mean Squared Error (RMSE) on the test data: {rmse}\")\n",
    "# Evaluate R-squared\n",
    "evaluator_r2 = RegressionEvaluator(labelCol=\"Adj Close\", predictionCol=\"prediction\", metricName=\"r2\")\n",
    "r2 = evaluator_r2.evaluate(predictions)\n",
    "print(f\"R-Squared on the test data: {r2}\")\n",
    "# Evaluate MAE\n",
    "evaluator_r2 = RegressionEvaluator(labelCol=\"Adj Close\", predictionCol=\"prediction\", metricName=\"mae\")\n",
    "mae = evaluator_r2.evaluate(predictions)\n",
    "print(f\"MAE on the test data: {mae}\")\n",
    "\n",
    "# An aRMSE value close to 1 implies that the model's predictions have a high level of error relative to the range of the target variable."
   ]
  },
  {
   "cell_type": "code",
   "execution_count": null,
   "metadata": {},
   "outputs": [],
   "source": [
    "import matplotlib.pyplot as plt\n",
    "import pandas as pd\n",
    "\n",
    "# Convert PySpark DataFrame to Pandas DataFrame\n",
    "predictions_pd = predictions.select(\"Date\", \"Adj Close\", \"prediction\").toPandas()\n",
    "\n",
    "# Convert the 'Date' column to datetime type\n",
    "predictions_pd['Date'] = pd.to_datetime(predictions_pd['Date'])\n",
    "\n",
    "# Sorting the DataFrame by 'Date' for proper plotting\n",
    "predictions_pd = predictions_pd.sort_values(by='Date')\n",
    "\n",
    "# Plotting\n",
    "plt.figure(figsize=(12, 6))\n",
    "plt.plot(predictions_pd['Date'], predictions_pd['Adj Close'], label='Actual Values', color='red')\n",
    "plt.plot(predictions_pd['Date'], predictions_pd['prediction'], label='Predicted Values', color='black')\n",
    "plt.title('Actual vs Predicted Values Over Time')\n",
    "plt.xlabel('Date')\n",
    "plt.ylabel('Value')\n",
    "plt.legend()\n",
    "plt.grid(True)\n",
    "plt.show()"
   ]
  },
  {
   "cell_type": "markdown",
   "metadata": {},
   "source": [
    "### Random Forest: Financial Earnings Data (all columns)"
   ]
  },
  {
   "cell_type": "code",
   "execution_count": null,
   "metadata": {},
   "outputs": [],
   "source": [
    "feature_columns = df10.columns\n",
    "feature_columns.remove('Adj Close')\n",
    "feature_columns.remove('Close')\n",
    "feature_columns.remove('Date')"
   ]
  },
  {
   "cell_type": "code",
   "execution_count": null,
   "metadata": {},
   "outputs": [],
   "source": [
    "assembler = VectorAssembler(inputCols=feature_columns, outputCol='features', handleInvalid=\"skip\")\n",
    "\n",
    "# Split the data into training and testing sets\n",
    "(training_data, testing_data) = df10.randomSplit([0.8, 0.2], seed=1234)\n",
    "\n",
    "training_data = training_data.na.drop()\n",
    "\n",
    "# Create a RandomForestRegressor\n",
    "rf = RandomForestRegressor(featuresCol='features', labelCol=\"Adj Close\", numTrees=100, maxDepth=5, seed=42)\n",
    "\n",
    "# Create a pipeline\n",
    "pipeline = Pipeline(stages=[assembler, rf])\n",
    "\n",
    "# Fit the model\n",
    "model = pipeline.fit(training_data)\n",
    "\n",
    "# Make predictions on the testing set\n",
    "predictions = model.transform(testing_data)\n",
    "\n",
    "# Evaluate RMSE\n",
    "evaluator = RegressionEvaluator(labelCol=\"Adj Close\", predictionCol=\"prediction\", metricName=\"rmse\")\n",
    "rmse = evaluator.evaluate(predictions)\n",
    "print(f\"Root Mean Squared Error (RMSE) on the test data: {rmse}\")\n",
    "# Evaluate R-squared\n",
    "evaluator_r2 = RegressionEvaluator(labelCol=\"Adj Close\", predictionCol=\"prediction\", metricName=\"r2\")\n",
    "r2 = evaluator_r2.evaluate(predictions)\n",
    "print(f\"R-Squared on the test data: {r2}\")\n",
    "# Evaluate MAE\n",
    "evaluator_r2 = RegressionEvaluator(labelCol=\"Adj Close\", predictionCol=\"prediction\", metricName=\"mae\")\n",
    "mae = evaluator_r2.evaluate(predictions)\n",
    "print(f\"MAE on the test data: {mae}\")"
   ]
  },
  {
   "cell_type": "code",
   "execution_count": null,
   "metadata": {},
   "outputs": [],
   "source": [
    "import matplotlib.pyplot as plt\n",
    "import pandas as pd\n",
    "\n",
    "# Convert PySpark DataFrame to Pandas DataFrame\n",
    "predictions_pd = predictions.select(\"Date\", \"Adj Close\", \"prediction\").toPandas()\n",
    "\n",
    "# Convert the 'Date' column to datetime type\n",
    "predictions_pd['Date'] = pd.to_datetime(predictions_pd['Date'])\n",
    "\n",
    "# Sorting the DataFrame by 'Date' for proper plotting\n",
    "predictions_pd = predictions_pd.sort_values(by='Date')\n",
    "\n",
    "# Plotting\n",
    "plt.figure(figsize=(12, 6))\n",
    "plt.plot(predictions_pd['Date'], predictions_pd['Adj Close'], label='Actual Values', color='red')\n",
    "plt.plot(predictions_pd['Date'], predictions_pd['prediction'], label='Predicted Values', color='black')\n",
    "plt.title('Actual vs Predicted Values Over Time')\n",
    "plt.xlabel('Date')\n",
    "plt.ylabel('Value')\n",
    "plt.legend()\n",
    "plt.grid(True)\n",
    "plt.show()"
   ]
  },
  {
   "cell_type": "markdown",
   "metadata": {},
   "source": [
    "## Experiment: Does feature extraction improves the performance? Extract the top 4 features"
   ]
  },
  {
   "cell_type": "markdown",
   "metadata": {},
   "source": [
    "### Feature Importance"
   ]
  },
  {
   "cell_type": "code",
   "execution_count": null,
   "metadata": {},
   "outputs": [],
   "source": [
    "# Extract feature importance from the trained RF model\n",
    "feature_importance = model.stages[-1].featureImportances\n",
    "\n",
    "# Create a Pandas DataFrame for better visualization\n",
    "feature_importance_df = pd.DataFrame(list(zip(feature_columns, feature_importance)), columns=['Feature', 'Importance'])\n",
    "\n",
    "# Sort the DataFrame by feature importance in descending order\n",
    "feature_importance_df = feature_importance_df.sort_values(by='Importance', ascending=False)\n",
    "\n",
    "# Consider only the top 4 features\n",
    "top_4_features = feature_importance_df.head(4)\n",
    "\n",
    "# Print or visualize the top 10 feature importance\n",
    "print(top_4_features)"
   ]
  },
  {
   "cell_type": "code",
   "execution_count": null,
   "metadata": {},
   "outputs": [],
   "source": [
    "import matplotlib.pyplot as plt\n",
    "\n",
    "# Assuming you have the 'top_10_features' DataFrame from your code\n",
    "\n",
    "# Plotting the bar chart\n",
    "plt.figure(figsize=(10, 6))\n",
    "plt.barh(top_4_features['Feature'], top_4_features['Importance'], color='red')\n",
    "plt.xlabel('Importance')\n",
    "plt.title('Top 4 Features of Importance')\n",
    "plt.show()"
   ]
  },
  {
   "cell_type": "markdown",
   "metadata": {},
   "source": [
    "### Random Forest: Financial Earnings Data (top 4 importance features)"
   ]
  },
  {
   "cell_type": "code",
   "execution_count": null,
   "metadata": {},
   "outputs": [],
   "source": [
    "# Extract the top 10 features as a list of tuples\n",
    "feature_columns = top_4_features['Feature'].values.tolist()\n",
    "\n",
    "# Print the list\n",
    "print(feature_columns)"
   ]
  },
  {
   "cell_type": "code",
   "execution_count": null,
   "metadata": {},
   "outputs": [],
   "source": [
    "assembler = VectorAssembler(inputCols=feature_columns, outputCol='features', handleInvalid=\"skip\")\n",
    "\n",
    "# Split the data into training and testing sets\n",
    "(training_data, testing_data) = df10.randomSplit([0.8, 0.2], seed=1234)\n",
    "\n",
    "training_data = training_data.na.drop()\n",
    "\n",
    "# Create a GBTRegressor\n",
    "gbt = GBTRegressor(featuresCol='features', labelCol='Adj Close', maxDepth=5, maxBins=32, maxIter=20, seed=42)\n",
    "\n",
    "# Create a pipeline\n",
    "pipeline = Pipeline(stages=[assembler, gbt])\n",
    "\n",
    "# Fit the model\n",
    "model = pipeline.fit(training_data)\n",
    "\n",
    "# Make predictions on the testing set\n",
    "predictions = model.transform(testing_data)\n",
    "\n",
    "\n",
    "# Evaluate RMSE\n",
    "evaluator = RegressionEvaluator(labelCol=\"Adj Close\", predictionCol=\"prediction\", metricName=\"rmse\")\n",
    "rmse = evaluator.evaluate(predictions)\n",
    "print(f\"Root Mean Squared Error (RMSE) on the test data: {rmse}\")\n",
    "# Evaluate R-squared\n",
    "evaluator_r2 = RegressionEvaluator(labelCol=\"Adj Close\", predictionCol=\"prediction\", metricName=\"r2\")\n",
    "r2 = evaluator_r2.evaluate(predictions)\n",
    "print(f\"R-Squared on the test data: {r2}\")\n",
    "# Evaluate MAE\n",
    "evaluator_r2 = RegressionEvaluator(labelCol=\"Adj Close\", predictionCol=\"prediction\", metricName=\"mae\")\n",
    "mae = evaluator_r2.evaluate(predictions)\n",
    "print(f\"MAE on the test data: {mae}\")"
   ]
  },
  {
   "cell_type": "code",
   "execution_count": null,
   "metadata": {},
   "outputs": [],
   "source": [
    "import matplotlib.pyplot as plt\n",
    "import pandas as pd\n",
    "\n",
    "# Convert PySpark DataFrame to Pandas DataFrame\n",
    "predictions_pd = predictions.select(\"Date\", \"Adj Close\", \"prediction\").toPandas()\n",
    "\n",
    "# Convert the 'Date' column to datetime type\n",
    "predictions_pd['Date'] = pd.to_datetime(predictions_pd['Date'])\n",
    "\n",
    "# Sorting the DataFrame by 'Date' for proper plotting\n",
    "predictions_pd = predictions_pd.sort_values(by='Date')\n",
    "\n",
    "# Plotting\n",
    "plt.figure(figsize=(12, 6))\n",
    "plt.plot(predictions_pd['Date'], predictions_pd['Adj Close'], label='Actual Values', color='red')\n",
    "plt.plot(predictions_pd['Date'], predictions_pd['prediction'], label='Predicted Values', color='black')\n",
    "plt.title('Actual vs Predicted Values Over Time')\n",
    "plt.xlabel('Date')\n",
    "plt.ylabel('Value')\n",
    "plt.legend()\n",
    "plt.grid(True)\n",
    "plt.show()"
   ]
  },
  {
   "cell_type": "markdown",
   "metadata": {},
   "source": [
    "## Classificaltion: Naive Bayes and Support Vector Machine (SVM)\n",
    "\n",
    "### Buy or Sell?\n",
    "\n",
    "https://www.investopedia.com/articles/technical/073001.asp\n",
    "\n",
    "Using the stochastics %D line formula:\n",
    "$D= 100 \\bigg (\\frac{H3}{L3} \\bigg)$ \n",
    "\n",
    "Where, H3 is the Highest of the three previous stock prices and L3 is the lowest price in the same three day period."
   ]
  },
  {
   "cell_type": "code",
   "execution_count": null,
   "metadata": {},
   "outputs": [],
   "source": [
    "# Calculate H3 and L3 using the window functions\n",
    "df11 = df1.withColumn(\"H3\", F.max(\"Adj Close\").over(window_spec.rowsBetween(-2, 0)))\n",
    "df11 = df11.withColumn(\"L3\", F.min(\"Adj Close\").over(window_spec.rowsBetween(-2, 0)))\n",
    "\n",
    "# Calculate the D line\n",
    "df11 = df11.withColumn(\"D\", 100 * (F.col(\"H3\") / F.col(\"L3\")))\n",
    "\n",
    "# Create a binary class column based on the D line buy = 0, sell = 1\n",
    "df11 = df11.withColumn(\"Class\", F.when(F.col(\"D\") > 102, 1).otherwise(0))\n",
    "\n",
    "# Show the resulting DataFrame\n",
    "df11.show(10)"
   ]
  },
  {
   "cell_type": "markdown",
   "metadata": {},
   "source": [
    "### Naive Bayes"
   ]
  },
  {
   "cell_type": "code",
   "execution_count": null,
   "metadata": {},
   "outputs": [],
   "source": [
    "# Drop unnecessary columns\n",
    "nb_df = df11.drop(\"Date\", \"label\", \"D\")\n",
    "\n",
    "outcome = \"Class\"\n",
    "\n",
    "# Compile all columns that are not the outcome\n",
    "feature_cols = [col for col in nb_df.columns if col not in [outcome, \"label\"]]\n",
    "\n",
    "# Convert the \"Class\" column to a numeric type using StringIndexer\n",
    "indexer = StringIndexer(inputCol=outcome, outputCol=\"label\")\n",
    "nb_df = indexer.fit(nb_df).transform(nb_df)\n",
    "\n",
    "# Create a vector assembler\n",
    "vector_assembler = VectorAssembler(inputCols=feature_cols, outputCol=\"nb_features\")\n",
    "\n",
    "# Transform the DataFrame using the vector assembler\n",
    "nb_assembled = vector_assembler.transform(nb_df)\n",
    "\n",
    "scaler = StandardScaler(inputCol=\"nb_features\", outputCol=\"scaledFeatures\")\n",
    "scalerModel = scaler.fit(nb_assembled)\n",
    "scaledData = scalerModel.transform(nb_assembled)\n",
    "\n",
    "# Split the data into training and testing sets\n",
    "train_data, test_data = scaledData.randomSplit([0.8, 0.2], seed=42)\n",
    "\n",
    "# Calculate class weights based on the class distribution\n",
    "class_counts = train_data.groupBy(\"label\").count()\n",
    "total_count = train_data.count()\n",
    "\n",
    "# Calculate class weights based on the class distribution\n",
    "train_data = train_data.join(class_counts.withColumn(\"classWeight\", F.col(\"count\") / total_count), \"label\")\n",
    "\n",
    "# Create a Naive Bayes model\n",
    "naive_bayes = NaiveBayes(featuresCol=\"scaledFeatures\", labelCol=\"label\", smoothing=0.001, weightCol=\"classWeight\")\n",
    "\n",
    "# Train the model\n",
    "naive_bayes_model = naive_bayes.fit(train_data)\n",
    "\n",
    "# Make predictions on the test set\n",
    "predictions = naive_bayes_model.transform(test_data)\n",
    "\n",
    "# Evaluate the model using BinaryClassificationEvaluator\n",
    "evaluator = BinaryClassificationEvaluator(labelCol=\"label\", rawPredictionCol=\"rawPrediction\", metricName=\"areaUnderROC\")\n",
    "area_under_roc = evaluator.evaluate(predictions)\n",
    "\n",
    "# Print the area under ROC\n",
    "print(f\"Area under ROC: {area_under_roc}\")\n",
    "predictions.select(\"label\", \"prediction\").show()"
   ]
  },
  {
   "cell_type": "code",
   "execution_count": null,
   "metadata": {},
   "outputs": [],
   "source": [
    "import matplotlib.pyplot as plt\n",
    "from sklearn.metrics import roc_curve, auc\n",
    "import numpy as np\n",
    "\n",
    "# Convert PySpark DataFrame to Pandas DataFrame\n",
    "predictions_pd = predictions.select(\"label\", \"rawPrediction\").toPandas()\n",
    "\n",
    "# Get the probability column from predictions_pd\n",
    "probs = np.array(predictions_pd[[\"label\", \"rawPrediction\"]].apply(lambda row: (float(row['rawPrediction'][1]), float(row['label'])), axis=1).tolist())\n",
    "\n",
    "\n",
    "# Calculate the ROC curve\n",
    "fpr, tpr, thresholds = roc_curve(probs[:,1], probs[:,0])\n",
    "roc_auc = auc(fpr, tpr)\n",
    "\n",
    "# Plot the ROC curve\n",
    "plt.figure(figsize=(4.5, 4.5))\n",
    "plt.plot(fpr, tpr, color='red', lw=2, label=f'ROC curve (area = {roc_auc:.2f})')\n",
    "plt.plot([0, 1], [0, 1], color='black', lw=2, linestyle='--')\n",
    "plt.xlim([0.0, 1.0])\n",
    "plt.ylim([0.0, 1.05])\n",
    "plt.xlabel('False Positive Rate')\n",
    "plt.ylabel('True Positive Rate')\n",
    "plt.title('ROC Curve - Naive Bayes')\n",
    "plt.legend(loc=\"lower right\")\n",
    "plt.show()"
   ]
  },
  {
   "cell_type": "markdown",
   "metadata": {},
   "source": [
    "### Support vector Machine (SVM)"
   ]
  },
  {
   "cell_type": "code",
   "execution_count": null,
   "metadata": {},
   "outputs": [],
   "source": [
    "svm_df = spark.read.csv(path11, header=True, inferSchema=True) \n",
    "\n",
    "# Drop unnecessary columns\n",
    "svm_df = svm_df.drop(\"label\",\"Date\", \"D\")\n",
    "\n",
    "\n",
    "# Define outcome and feature columns\n",
    "outcome = \"Class\"\n",
    "feature_cols = [col for col in svm_df.columns if col not in outcome]\n",
    "\n",
    "# Vector assembler for feature transformation\n",
    "vector_assembler = VectorAssembler(inputCols=feature_cols, outputCol=\"svm_features\")\n",
    "svm_assembled = vector_assembler.transform(svm_df)\n",
    "\n",
    "# Transform the DataFrame using the vector assembler\n",
    "nb_assembled = vector_assembler.transform(nb_df)\n",
    "\n",
    "scaler = StandardScaler(inputCol=\"svm_features\", outputCol=\"scaledFeatures\")\n",
    "scalerModel = scaler.fit(svm_assembled)\n",
    "scaledData = scalerModel.transform(svm_assembled)\n",
    "\n",
    "# Split the data into training and testing sets\n",
    "train_data, test_data = scaledData.randomSplit([0.8, 0.2], seed=42)\n",
    "\n",
    "# Linear SVM model\n",
    "svm_classifier = LinearSVC(featuresCol=\"svm_features\", labelCol=\"Class\", maxIter=10)\n",
    "svm_model = svm_classifier.fit(train_data)\n",
    "\n",
    "# Make predictions on the test set\n",
    "svm_predictions = svm_model.transform(test_data)\n",
    "\n",
    "# Evaluate the model using BinaryClassificationEvaluator\n",
    "SVM_evaluator = BinaryClassificationEvaluator(labelCol=\"Class\", rawPredictionCol=\"rawPrediction\", metricName=\"areaUnderROC\")\n",
    "area_under_roc = SVM_evaluator.evaluate(svm_predictions)\n",
    "\n",
    "# Print the area under ROC\n",
    "print(f\"Area under ROC: {area_under_roc}\")\n",
    "svm_predictions.select(\"Class\", \"prediction\").show(10)"
   ]
  },
  {
   "cell_type": "code",
   "execution_count": null,
   "metadata": {},
   "outputs": [],
   "source": [
    "# Convert PySpark DataFrame to Pandas DataFrame\n",
    "svm_predictions_pd = svm_predictions.select(\"Class\", \"rawPrediction\").toPandas()\n",
    "\n",
    "# Extract probability and class columns\n",
    "svm_probs = np.array(svm_predictions_pd[[\"Class\", \"rawPrediction\"]].apply(lambda row: (float(row['rawPrediction'][1]), float(row['Class'])), axis=1).tolist())\n",
    "\n",
    "# Calculate the ROC curve\n",
    "fpr, tpr, thresholds = roc_curve(svm_probs[:,1], svm_probs[:,0])  # Use svm_probs consistently\n",
    "roc_auc = auc(fpr, tpr)\n",
    "\n",
    "# Plot the ROC curve\n",
    "plt.figure(figsize=(4.5, 4.5))\n",
    "plt.plot(fpr, tpr, color='red', lw=2, label=f'ROC curve (area = {roc_auc:.2f})')\n",
    "plt.plot([0, 1], [0, 1], color='black', lw=2, linestyle='--')\n",
    "plt.xlim([0.0, 1.0])\n",
    "plt.ylim([0.0, 1.05])\n",
    "plt.xlabel('False Positive Rate')\n",
    "plt.ylabel('True Positive Rate')\n",
    "plt.title('ROC Curve - Support Vector Machines')\n",
    "plt.legend(loc=\"lower right\")\n",
    "plt.show()"
   ]
  },
  {
   "cell_type": "markdown",
   "metadata": {},
   "source": [
    "# STEP 5: Model Evaluation\n",
    "\n",
    "We analyze the performance of our model using MAE, RMSE, and R-Squared for the regression models (Linear regression, gradient-boosted trees, and random forest) and AUC for the classification methods (Naive Bayes and SVM)"
   ]
  },
  {
   "cell_type": "markdown",
   "metadata": {},
   "source": [
    "## Linear Regression\n",
    "\n",
    "\n",
    "### Historical Data:\n",
    "\n",
    "**MAE:** 5.167063102382602\n",
    "\n",
    "**RMSE:** 7.076864911214847\n",
    "\n",
    "**R-Squared:** 0.7997656879556602\n",
    "\n",
    "### Financial Earnings Data on subset columns:\n",
    "\n",
    "**MAE:** 2.7984922752018098\n",
    "\n",
    "**RMSE:** 4.077195126575801\n",
    "\n",
    "**R-Squared:** 0.9462815455018467\n",
    "\n",
    "## Gradient-boosted Trees\n",
    "\n",
    "\n",
    "### Historical Data:\n",
    "\n",
    "**MAE:** 0.6054307770642364\n",
    "\n",
    "**RMSE:** 1.2130441761449018\n",
    "\n",
    "**R-Squared:** 0.9940429744791378\n",
    "\n",
    "### Financial Earnings Data (all columns)\n",
    "\n",
    "**MAE:** 2.8027980701128072\n",
    "\n",
    "**RMSE:** 3.273395774607916\n",
    "\n",
    "**R-Squared:** 0.8830425082293992\n",
    "\n",
    "### Financial Earnings Data (Open, High, Low, Volume)\n",
    "\n",
    "**MAE:** 1.2661382181683607\n",
    "\n",
    "**RMSE:** 1.6245708867863211\n",
    "\n",
    "**R-Squared:** 0.9863670080970188\n",
    "\n",
    "## Random Forest\n",
    "\n",
    "### Historical Data\n",
    "\n",
    "**MAE:** 0.758024749660953\n",
    "\n",
    "**RMSE:** 1.3626758945092907\n",
    "\n",
    "**R-Squared:** 0.9924827088127344\n",
    "\n",
    "### Financial Earnings Data (all columns)\n",
    "\n",
    "**MAE:** 1.0021435858636547\n",
    "\n",
    "**RMSE:** 1.2651000115524824\n",
    "\n",
    "**R-Squared:** 0.991732702542472\n",
    "\n",
    "### Financial Earnings Data (top 4 importance features)\n",
    "\n",
    "**MAE:** 1.0611790795516813\n",
    "\n",
    "**RMSE:** 1.5347088399079443\n",
    "\n",
    "**R-Squared:** 0.9878334951454119\n",
    "\n",
    "## Naive Bayes\n",
    "\n",
    "**AUC:** 0.53\n",
    "\n",
    "## Support Vector Machine (SVM)\n",
    "\n",
    "**AUC:** 0.65\n",
    "\n",
    "\n"
   ]
  }
 ],
 "metadata": {
  "kernelspec": {
   "display_name": "DS5110 Spark 3.3",
   "language": "python",
   "name": "ds5110_spark3.3"
  },
  "language_info": {
   "codemirror_mode": {
    "name": "ipython",
    "version": 3
   },
   "file_extension": ".py",
   "mimetype": "text/x-python",
   "name": "python",
   "nbconvert_exporter": "python",
   "pygments_lexer": "ipython3",
   "version": "3.7.12"
  }
 },
 "nbformat": 4,
 "nbformat_minor": 4
}
