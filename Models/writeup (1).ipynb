{
 "cells": [
  {
   "cell_type": "markdown",
   "metadata": {},
   "source": [
    "# University of Virginia\n",
    "## DS 7200: Distributed Computing\n",
    "## Final Project\n",
    "\n",
    "### Team 5: Gia Smith, Luz Melo, Meesun Yang\n",
    "\n",
    "---"
   ]
  },
  {
   "cell_type": "raw",
   "metadata": {},
   "source": [
    "# useful Websites\n",
    "\n",
    "https://www.investopedia.com/articles/fundamental-analysis/09/elements-stock-value.asp\n",
    "# To transpose cvs files we use this website:  https://www.convertcsv.com/transpose-csv.htm\n",
    "# https://www.mdpi.com/2673-4001/3/2/19"
   ]
  },
  {
   "cell_type": "code",
   "execution_count": 1,
   "metadata": {},
   "outputs": [],
   "source": [
    "import os\n",
    "import pandas as pd\n",
    "from pyspark.sql import SparkSession\n",
    "from pyspark.sql.types import StructType, StructField, DateType, FloatType, LongType\n",
    "from pyspark.sql import functions as F\n",
    "import numpy as np\n",
    "from pyspark.sql import SQLContext\n",
    "from pyspark.sql.functions import lit\n",
    "from pyspark.sql.functions import col\n",
    "import matplotlib.pyplot as plt\n",
    "from pyspark.sql.functions import mean, stddev, corr\n",
    "from pyspark.ml.feature import VectorAssembler\n",
    "from pyspark.ml.regression import GBTRegressor\n",
    "from pyspark.ml import Pipeline\n",
    "from pyspark.ml.evaluation import RegressionEvaluator"
   ]
  },
  {
   "cell_type": "code",
   "execution_count": 2,
   "metadata": {},
   "outputs": [
    {
     "name": "stdout",
     "output_type": "stream",
     "text": [
      "Current Working Directory: /sfs/qumulo/qhome/czj9zj/Final Project\n",
      "Files in Current Directory: ['KO_merged_data.csv', 'KO_1st_toLoad.csv', 'KO_quarterly_balance-sheet.csv', 'writeup.ipynb', 'KO_quarterly_valuation_measures.csv', 'KO_quarterly_financials.csv', 'KOv3.csv', 'KO_filtered_merged_data.csv', '.ipynb_checkpoints', 'KO.csv', 'filtered_merged_data.csv', 'KO_quarterly_cash-flow.csv']\n"
     ]
    }
   ],
   "source": [
    "# Get the current working directory\n",
    "current_directory = os.getcwd()\n",
    "\n",
    "# Print the current working directory\n",
    "print(\"Current Working Directory:\", current_directory)\n",
    "# List files in the current working directory\n",
    "print(\"Files in Current Directory:\", os.listdir())"
   ]
  },
  {
   "cell_type": "code",
   "execution_count": 3,
   "metadata": {},
   "outputs": [
    {
     "name": "stderr",
     "output_type": "stream",
     "text": [
      "/opt/conda/lib/python3.7/site-packages/pyspark/bin/load-spark-env.sh: line 68: ps: command not found\n",
      "Setting default log level to \"WARN\".\n",
      "To adjust logging level use sc.setLogLevel(newLevel). For SparkR, use setLogLevel(newLevel).\n"
     ]
    },
    {
     "name": "stdout",
     "output_type": "stream",
     "text": [
      "23/11/22 13:35:27 WARN NativeCodeLoader: Unable to load native-hadoop library for your platform... using builtin-java classes where applicable\n"
     ]
    }
   ],
   "source": [
    "# set up the session\n",
    "spark = SparkSession.builder.getOrCreate()"
   ]
  },
  {
   "cell_type": "code",
   "execution_count": 27,
   "metadata": {},
   "outputs": [],
   "source": [
    "# Read in stock data. Source: Yahoo! finance\n",
    "path1 = 'KO.csv'\n",
    "path2 = 'KO_1st_toLoad.csv'\n",
    "path3 = 'KO_quarterly_valuation_measures.csv'\n",
    "path4 = 'KO_quarterly_financials.csv'\n",
    "path5 = 'KO_quarterly_balance-sheet.csv'\n",
    "path6 = 'KO_quarterly_cash-flow.csv'\n",
    "path7 = 'KO_merged_data.csv'\n",
    "path8 = 'filtered_merged_data.csv'\n",
    "path9 = 'KO_filtered_merged_data.csv'\n",
    "path10 = 'KOv3.csv'"
   ]
  },
  {
   "cell_type": "markdown",
   "metadata": {},
   "source": [
    "### Historical Data"
   ]
  },
  {
   "cell_type": "code",
   "execution_count": 5,
   "metadata": {},
   "outputs": [],
   "source": [
    "# set up schema\n",
    "stock_schema = StructType([StructField('Date',DateType(),False),\n",
    "                           StructField('Open',FloatType(),False),\n",
    "                           StructField('High',FloatType(),False),\n",
    "                           StructField('Low',FloatType(),False),\n",
    "                           StructField('Close',FloatType(),False),\n",
    "                           StructField('Adj Close',FloatType(),False),\n",
    "                           StructField('Volume',LongType(),False),\n",
    "                         ])"
   ]
  },
  {
   "cell_type": "code",
   "execution_count": 6,
   "metadata": {},
   "outputs": [
    {
     "name": "stdout",
     "output_type": "stream",
     "text": [
      "+----------+--------+--------+--------+--------+---------+-------+\n",
      "|      Date|    Open|    High|     Low|   Close|Adj Close| Volume|\n",
      "+----------+--------+--------+--------+--------+---------+-------+\n",
      "|1962-01-02|0.263021|0.270182|0.263021|0.263021| 0.048528| 806400|\n",
      "|1962-01-03|0.259115|0.259115|0.253255|0.257161| 0.047447|1574400|\n",
      "|1962-01-04|0.257813|0.261068|0.257813|0.259115| 0.047807| 844800|\n",
      "|1962-01-05|0.259115| 0.26237|0.252604|0.253255| 0.046726|1420800|\n",
      "|1962-01-08|0.251302|0.251302|0.245768|0.250651| 0.046246|2035200|\n",
      "|1962-01-09|0.250651| 0.25651|0.248698|0.255208| 0.047087| 960000|\n",
      "|1962-01-10|0.255208|0.260091|0.252604| 0.25651| 0.047327|1612800|\n",
      "|1962-01-11| 0.25651|0.259115|0.255208|0.259115| 0.047807| 614400|\n",
      "|1962-01-12|0.259115|0.259115|0.254557|0.257161| 0.047447| 883200|\n",
      "|1962-01-15| 0.25651| 0.25651|0.253906|0.254557| 0.046966| 614400|\n",
      "+----------+--------+--------+--------+--------+---------+-------+\n",
      "only showing top 10 rows\n",
      "\n"
     ]
    }
   ],
   "source": [
    "df1 = spark.read.csv(path1, header=True, schema=stock_schema)\n",
    "df1.show(10)"
   ]
  },
  {
   "cell_type": "code",
   "execution_count": 7,
   "metadata": {},
   "outputs": [
    {
     "name": "stdout",
     "output_type": "stream",
     "text": [
      "root\n",
      " |-- Date: date (nullable = true)\n",
      " |-- Open: float (nullable = true)\n",
      " |-- High: float (nullable = true)\n",
      " |-- Low: float (nullable = true)\n",
      " |-- Close: float (nullable = true)\n",
      " |-- Adj Close: float (nullable = true)\n",
      " |-- Volume: long (nullable = true)\n",
      "\n"
     ]
    }
   ],
   "source": [
    "df1.printSchema()"
   ]
  },
  {
   "cell_type": "code",
   "execution_count": 8,
   "metadata": {},
   "outputs": [
    {
     "data": {
      "image/png": "[encoded data removed]",
      "text/plain": [
       "<Figure size 640x480 with 1 Axes>"
      ]
     },
     "metadata": {},
     "output_type": "display_data"
    }
   ],
   "source": [
    "# Imports\n",
    "import matplotlib.pyplot as plt\n",
    "\n",
    "prices = df1.select(\"Date\", \"Close\").collect()\n",
    "dates = [row.Date for row in prices]\n",
    "prices = [row.Close for row in prices]\n",
    "\n",
    "plt.plot(dates, prices)\n",
    "plt.xlabel(\"Date\")\n",
    "plt.ylabel(\"Price\")\n",
    "plt.title(\"Daily Stock Prices\")\n",
    "plt.show()"
   ]
  },
  {
   "cell_type": "code",
   "execution_count": 9,
   "metadata": {},
   "outputs": [
    {
     "name": "stdout",
     "output_type": "stream",
     "text": [
      "Mean Price: 17.44691300745597\n",
      "Standard Deviation Price: 18.399699444096413\n",
      "Correlation between Price and Volume: 0.4734944376203516\n"
     ]
    }
   ],
   "source": [
    "mean_price = df1.select(mean(\"Close\")).first()[0]\n",
    "stddev_price = df1.select(stddev(\"Close\")).first()[0]\n",
    "corr_price_volume = df1.select(corr(\"Close\", \"Volume\")).first()[0]\n",
    "\n",
    "print(\"Mean Price:\", mean_price)\n",
    "print(\"Standard Deviation Price:\", stddev_price)\n",
    "print(\"Correlation between Price and Volume:\", corr_price_volume)"
   ]
  },
  {
   "cell_type": "code",
   "execution_count": 10,
   "metadata": {},
   "outputs": [
    {
     "name": "stdout",
     "output_type": "stream",
     "text": [
      "+-------+------------------+------------------+------------------+------------------+------------------+------------------+\n",
      "|summary|              Open|              High|               Low|             Close|         Adj Close|            Volume|\n",
      "+-------+------------------+------------------+------------------+------------------+------------------+------------------+\n",
      "|  count|             15578|             15578|             15578|             15578|             15578|             15578|\n",
      "|   mean|17.443087905915117|17.584551596108934| 17.29806420616332| 17.44691300745597|12.287431249795091| 9212160.328668635|\n",
      "| stddev| 18.39905733332124|18.532486456813324|18.260003923963637|18.399699444096413|15.744719260632824|7942933.4953253465|\n",
      "|    min|          0.192708|          0.193359|          0.182292|          0.192057|          0.035927|             76800|\n",
      "|    max|              67.0|              67.2|             65.72|             66.21|          63.31803|         124169000|\n",
      "+-------+------------------+------------------+------------------+------------------+------------------+------------------+\n",
      "\n"
     ]
    }
   ],
   "source": [
    "df1.describe().show()"
   ]
  },
  {
   "cell_type": "code",
   "execution_count": 11,
   "metadata": {},
   "outputs": [
    {
     "name": "stdout",
     "output_type": "stream",
     "text": [
      "+----------+--------+--------+--------+--------+---------+--------+\n",
      "|      Date|    Open|    High|     Low|   Close|Adj Close|  Volume|\n",
      "+----------+--------+--------+--------+--------+---------+--------+\n",
      "|1962-03-01|0.238932|0.238932|0.234375| 0.23763| 0.043843|19545600|\n",
      "|1969-06-13|0.747396| 0.75651|0.736979|0.744792| 0.162613| 9552000|\n",
      "|1973-02-13| 1.53125|1.546875| 1.53125| 1.53125| 0.351657|11836800|\n",
      "|1974-09-23| 0.71875| 0.71875| 0.65625| 0.65625| 0.155209|28022400|\n",
      "|1974-09-25|   0.625|0.651042|0.606771|0.606771| 0.143507|10588800|\n",
      "|1974-10-01|0.533854|0.559896|     0.5|0.549479| 0.129957| 9379200|\n",
      "|1974-10-10|0.580729|0.617188|0.580729| 0.59375| 0.140427|10454400|\n",
      "|1974-11-18|0.567708|0.567708|0.502604|0.509115|  0.12041|10771200|\n",
      "|1974-12-17| 0.49349|0.520833|0.485677|0.520833| 0.124483|12134400|\n",
      "|1975-02-07|0.753906|0.753906|0.736979|0.752604| 0.179878|10329600|\n",
      "|1976-11-05| 0.84375|0.846354| 0.80599|0.811198| 0.204251|10108800|\n",
      "|1976-12-20|0.782552|0.785156|0.765625|0.765625| 0.194392| 9936000|\n",
      "|1977-03-03|0.833333|0.835938|0.828125|0.835938| 0.212245| 9532800|\n",
      "|1977-03-04|0.835938|0.835938|0.798177|0.799479| 0.202987|11020800|\n",
      "|1977-03-07|0.799479|0.804688|0.779948|0.791667| 0.201004|14246400|\n",
      "|1977-03-09|0.791667|0.791667|0.760417|0.760417|  0.19307|14611200|\n",
      "|1977-03-10|0.763021|0.796875|0.763021| 0.78776| 0.202144|17395200|\n",
      "|1978-04-17|0.854167|0.880208|0.854167|0.859375| 0.229923| 9513600|\n",
      "|1978-04-25|   0.875|0.885417|   0.875|   0.875| 0.234104|10934400|\n",
      "|1978-08-15|0.932292|0.932292|0.916667|0.929688| 0.251219|43156800|\n",
      "+----------+--------+--------+--------+--------+---------+--------+\n",
      "only showing top 20 rows\n",
      "\n"
     ]
    }
   ],
   "source": [
    "# register stock dataFrame as temp view with name \"stocks\"\n",
    "df1.createOrReplaceTempView(\"stocks\")\n",
    "\n",
    "# query the view\n",
    "sqlDF1 = spark.sql(\"SELECT * FROM stocks where Volume > 9212160\")\n",
    "sqlDF1.show()"
   ]
  },
  {
   "cell_type": "code",
   "execution_count": 12,
   "metadata": {},
   "outputs": [
    {
     "name": "stdout",
     "output_type": "stream",
     "text": [
      "The date with the highest volume is: 2009-09-18\n"
     ]
    }
   ],
   "source": [
    "from pyspark.sql.functions import desc\n",
    "\n",
    "# Assuming 'Date' and 'Volume' are column names in your DataFrame\n",
    "max_volume_date = df1.orderBy(desc('Volume')).select('Date').first()['Date']\n",
    "\n",
    "print(f\"The date with the highest volume is: {max_volume_date}\")"
   ]
  },
  {
   "cell_type": "code",
   "execution_count": 13,
   "metadata": {},
   "outputs": [
    {
     "data": {
      "image/png": "[encoded data removed]",
      "text/plain": [
       "<Figure size 1200x600 with 1 Axes>"
      ]
     },
     "metadata": {},
     "output_type": "display_data"
    }
   ],
   "source": [
    "import pandas as pd\n",
    "import matplotlib.pyplot as plt\n",
    "\n",
    "# Convert PySpark DataFrame to pandas DataFrame\n",
    "df_pandas = df1.toPandas()\n",
    "\n",
    "# Assuming 'Date' is a string, you can convert it to datetime with a specific format\n",
    "df_pandas['Date'] = pd.to_datetime(df_pandas['Date'], format='%Y-%m-%d')\n",
    "\n",
    "# Plotting the volume histogram\n",
    "plt.figure(figsize=(12, 6))\n",
    "plt.bar(df_pandas['Date'], df_pandas['Volume'], color='blue', alpha=0.7)\n",
    "plt.title('Volume Histogram')\n",
    "plt.xlabel('Date')\n",
    "plt.ylabel('Volume')\n",
    "plt.xticks(rotation=45)\n",
    "\n",
    "# Set a specific limit on the y-axis\n",
    "plt.ylim(0, max(df_pandas['Volume']))  # Adjust the upper limit as needed\n",
    "\n",
    "plt.show()"
   ]
  },
  {
   "cell_type": "markdown",
   "metadata": {},
   "source": [
    "### Questions to Analyze Using PySpark\n",
    "\n",
    "In this section, we will give answers to some questions data using PySpark’s data preprocessing technique\n",
    "\n",
    "- On what day stock price was the highest?\n",
    "- What is the average Closing price?\n",
    "- What is the maximum and minimum volume of stock traded\n",
    "- For how many days the closing value was less than 60 dollars?\n",
    "- What could be the maximum high value for each year?"
   ]
  },
  {
   "cell_type": "markdown",
   "metadata": {},
   "source": [
    "### Historical Data Filtered"
   ]
  },
  {
   "cell_type": "code",
   "execution_count": 14,
   "metadata": {},
   "outputs": [
    {
     "name": "stdout",
     "output_type": "stream",
     "text": [
      "+----------+--------+--------+--------+--------+---------+---------+\n",
      "|      Date|    Open|    High|     Low|   Close|Adj Close|   Volume|\n",
      "+----------+--------+--------+--------+--------+---------+---------+\n",
      "| 3/31/1985|1.458333|1.505208|1.408854|1.427083| 0.565683|331833600|\n",
      "| 6/30/1985|1.445313|1.559896|1.401042|1.505208| 0.603144|522912000|\n",
      "| 9/30/1985|1.453125|1.510417|1.440104|1.492188| 0.604408|258590400|\n",
      "|12/31/1985|1.760417|1.770833|1.598958|1.747396| 0.714215|288134400|\n",
      "| 3/31/1986|  2.1875|     2.5|2.052083|2.322917| 0.957008|416294400|\n",
      "| 6/30/1986|2.742188|2.804688|2.359375|2.445313| 1.014374|364022400|\n",
      "| 9/30/1986|2.117188|2.453125|2.109375|2.289063| 0.956324|255110400|\n",
      "|12/31/1986|2.359375|2.773438|2.359375|2.664063| 1.121004|392235200|\n",
      "| 3/31/1987|2.859375|  2.9375|2.546875|2.664063| 1.128003|319137600|\n",
      "| 6/30/1987|2.765625|2.992188|2.679688|2.976563| 1.268484|321331200|\n",
      "+----------+--------+--------+--------+--------+---------+---------+\n",
      "only showing top 10 rows\n",
      "\n"
     ]
    }
   ],
   "source": [
    "df2 = spark.read.csv(path2, header=True, inferSchema=True)\n",
    "df2.show(10)\n",
    "\n",
    "#why does date comes null when we use stock_schema in this csv file?"
   ]
  },
  {
   "cell_type": "code",
   "execution_count": 15,
   "metadata": {},
   "outputs": [
    {
     "name": "stdout",
     "output_type": "stream",
     "text": [
      "root\n",
      " |-- Date: string (nullable = true)\n",
      " |-- Open: double (nullable = true)\n",
      " |-- High: double (nullable = true)\n",
      " |-- Low: double (nullable = true)\n",
      " |-- Close: double (nullable = true)\n",
      " |-- Adj Close: double (nullable = true)\n",
      " |-- Volume: integer (nullable = true)\n",
      "\n"
     ]
    }
   ],
   "source": [
    "df2. printSchema()"
   ]
  },
  {
   "cell_type": "code",
   "execution_count": 16,
   "metadata": {},
   "outputs": [
    {
     "data": {
      "image/png": "[encoded data removed]",
      "text/plain": [
       "<Figure size 640x480 with 1 Axes>"
      ]
     },
     "metadata": {},
     "output_type": "display_data"
    }
   ],
   "source": [
    "prices = df2.select(\"Date\", \"Close\").collect()\n",
    "dates = [row.Date for row in prices]\n",
    "prices = [row.Close for row in prices]\n",
    "\n",
    "plt.plot(dates, prices)\n",
    "plt.xlabel(\"Date\")\n",
    "plt.ylabel(\"Price\")\n",
    "plt.title(\"Quarterly Stock Prices\")\n",
    "plt.show()"
   ]
  },
  {
   "cell_type": "markdown",
   "metadata": {},
   "source": [
    "### Valuation Measures"
   ]
  },
  {
   "cell_type": "code",
   "execution_count": 17,
   "metadata": {},
   "outputs": [
    {
     "name": "stdout",
     "output_type": "stream",
     "text": [
      "+----------+---------------+---------------+-------+--------------+--------+-------+-------+----------------------------+---------------------------+\n",
      "|      Date|      MarketCap|EnterpriseValue|PeRatio|ForwardPeRatio|PegRatio|PsRatio|PbRatio|EnterprisesValueRevenueRatio|EnterprisesValueEBITDARatio|\n",
      "+----------+---------------+---------------+-------+--------------+--------+-------+-------+----------------------------+---------------------------+\n",
      "|       ttm|247,558,674,760|272,294,674,760| 23.182|         20.45|   2.698|  5.522|  9.404|                       6.047|                     17.509|\n",
      "| 9/30/2023|242,057,520,000|267,988,520,000| 23.228|        19.763|   2.582|  5.509|  9.305|                       22.42|                     63.883|\n",
      "| 6/30/2023|260,391,280,000|288,496,280,000| 26.529|        23.202|   3.282|  6.019| 10.326|                      24.098|                     81.611|\n",
      "| 3/31/2023|268,279,750,000|295,797,750,000| 28.324|        23.866|   3.378|  6.275|  11.13|                       26.94|                     62.789|\n",
      "|12/31/2022|275,082,288,723|301,449,288,723| 27.899|        25.189|   3.579|  6.537| 12.072|                      29.773|                     96.898|\n",
      "| 9/30/2022|242,230,480,000|272,512,480,000| 25.464|        21.552|   3.123|  5.898| 10.529|                      24.633|                     69.008|\n",
      "| 6/30/2022|272,716,657,215|304,061,657,215| 26.544|        25.445|   3.487|  6.815| 10.977|                      26.849|                    108.439|\n",
      "| 3/31/2022|268,769,685,040|298,905,685,040| 27.556|        25.189|   2.755|  6.961| 11.686|                      28.492|                     75.405|\n",
      "|12/31/2021|256,083,250,000|282,922,250,000| 29.167|        24.096|   2.617|   6.79| 11.547|                      29.895|                     81.628|\n",
      "| 9/30/2021|226,492,983,346|255,458,983,346| 28.059|        21.413|   2.412|  6.239|  10.18|                      25.439|                     69.874|\n",
      "+----------+---------------+---------------+-------+--------------+--------+-------+-------+----------------------------+---------------------------+\n",
      "only showing top 10 rows\n",
      "\n"
     ]
    }
   ],
   "source": [
    "df3 = spark.read.csv(path3, header=True, inferSchema=True)\n",
    "df3.show(10)"
   ]
  },
  {
   "cell_type": "markdown",
   "metadata": {},
   "source": [
    "### Income Statement"
   ]
  },
  {
   "cell_type": "code",
   "execution_count": 18,
   "metadata": {},
   "outputs": [],
   "source": [
    "# set up the session\n",
    "df4 = spark.read.csv(path4, header=True, inferSchema=True)\n",
    "#df4.show(10)"
   ]
  },
  {
   "cell_type": "markdown",
   "metadata": {},
   "source": [
    "### Balance Sheet"
   ]
  },
  {
   "cell_type": "code",
   "execution_count": 19,
   "metadata": {},
   "outputs": [],
   "source": [
    "df5 = spark.read.csv(path5, header=True, inferSchema=True)\n",
    "#df5.show(10)"
   ]
  },
  {
   "cell_type": "markdown",
   "metadata": {},
   "source": [
    "### Cash Flow"
   ]
  },
  {
   "cell_type": "code",
   "execution_count": 20,
   "metadata": {},
   "outputs": [],
   "source": [
    "df6 = spark.read.csv(path6, header=True, inferSchema=True)\n",
    "#df6.show(10)"
   ]
  },
  {
   "cell_type": "markdown",
   "metadata": {},
   "source": [
    "## Merge Datasets"
   ]
  },
  {
   "cell_type": "raw",
   "metadata": {},
   "source": [
    "merged_df = df3.join(df4, 'Date', 'inner') \\\n",
    "               .join(df5, 'Date', 'inner') \\\n",
    "               .join(df6, 'Date', 'inner')\n",
    "               \n",
    "# Save the merged DataFrame to a CSV file\n",
    "output_path = \"merged_data.csv\"\n",
    "merged_df.write.csv(output_path, header=True, mode=\"overwrite\")\n",
    "len(merged_df.columns)"
   ]
  },
  {
   "cell_type": "code",
   "execution_count": 21,
   "metadata": {},
   "outputs": [
    {
     "data": {
      "text/plain": [
       "214"
      ]
     },
     "execution_count": 21,
     "metadata": {},
     "output_type": "execute_result"
    }
   ],
   "source": [
    "merged_df = spark.read.csv(path7, header=True, inferSchema=True)\n",
    "len(merged_df.columns)"
   ]
  },
  {
   "cell_type": "markdown",
   "metadata": {},
   "source": [
    "### Cleaning Merged Dataset"
   ]
  },
  {
   "cell_type": "raw",
   "metadata": {},
   "source": [
    "# Figure out which ones have null values/blanks\n",
    "merged_df = spark.read.csv(path7, header=True, inferSchema=True)\n",
    "\n",
    "# Identify columns without null values\n",
    "columns_without_null = [col_name for col_name in merged_df.columns if merged_df.filter(col(col_name).isNull()).count() == 0]\n",
    "# Identify colunmns with null values\n",
    "columns_with_null = [col_name for col_name in merged_df.columns if merged_df.filter(col(col_name).isNull()).count() != 0]\n",
    "\n",
    "# Select only columns without null values\n",
    "filtered_merged_df = merged_df.select(*columns_without_null)\n",
    "\n",
    "# Total number of columns without null values\n",
    "len(columns_without_null)\n",
    "len(filtered_merged_df.columns)"
   ]
  },
  {
   "cell_type": "raw",
   "metadata": {},
   "source": [
    "# Save the filtered merged DataFrame to a CSV file\n",
    "output_path = \"filtered_merged_data.csv\"\n",
    "filtered_merged_df.write.csv(output_path, header=True, mode=\"overwrite\")"
   ]
  },
  {
   "cell_type": "code",
   "execution_count": 22,
   "metadata": {},
   "outputs": [
    {
     "data": {
      "text/plain": [
       "102"
      ]
     },
     "execution_count": 22,
     "metadata": {},
     "output_type": "execute_result"
    }
   ],
   "source": [
    "filtered_merged_df = spark.read.csv(path8, header=True, inferSchema=True)\n",
    "len(filtered_merged_df.columns)"
   ]
  },
  {
   "cell_type": "raw",
   "metadata": {},
   "source": [
    "filtered_merged_df.columns"
   ]
  },
  {
   "cell_type": "markdown",
   "metadata": {},
   "source": [
    "### Join filtered Historical data and addtional data"
   ]
  },
  {
   "cell_type": "raw",
   "metadata": {},
   "source": [
    "final_merged_df = df2.join(filtered_merged_df, 'Date', 'inner')"
   ]
  },
  {
   "cell_type": "raw",
   "metadata": {},
   "source": [
    "# Save the merged DataFrame to a CSV file\n",
    "output_path = \"KO_filtered_merged_df.csv\"\n",
    "final_merged_df.write.csv(output_path, header=True, mode=\"overwrite\")"
   ]
  },
  {
   "cell_type": "code",
   "execution_count": 23,
   "metadata": {},
   "outputs": [
    {
     "data": {
      "text/plain": [
       "108"
      ]
     },
     "execution_count": 23,
     "metadata": {},
     "output_type": "execute_result"
    }
   ],
   "source": [
    "df9 = spark.read.csv(path9, header=True, inferSchema=True)\n",
    "len(df9.columns)"
   ]
  },
  {
   "cell_type": "markdown",
   "metadata": {},
   "source": [
    "### Gradient-boosted Trees: Historical Data"
   ]
  },
  {
   "cell_type": "code",
   "execution_count": 24,
   "metadata": {},
   "outputs": [],
   "source": [
    "feature_columns = df1.columns\n",
    "feature_columns.remove('Adj Close')\n",
    "feature_columns.remove('Date')"
   ]
  },
  {
   "cell_type": "code",
   "execution_count": 25,
   "metadata": {},
   "outputs": [
    {
     "name": "stderr",
     "output_type": "stream",
     "text": [
      "WARNING: An illegal reflective access operation has occurred\n",
      "WARNING: Illegal reflective access by org.apache.spark.util.SizeEstimator$ (file:/opt/conda/lib/python3.7/site-packages/pyspark/jars/spark-core_2.12-3.3.1.jar) to field java.nio.charset.Charset.name\n",
      "WARNING: Please consider reporting this to the maintainers of org.apache.spark.util.SizeEstimator$\n",
      "WARNING: Use --illegal-access=warn to enable warnings of further illegal reflective access operations\n",
      "WARNING: All illegal access operations will be denied in a future release\n"
     ]
    },
    {
     "name": "stdout",
     "output_type": "stream",
     "text": [
      "Root Mean Squared Error (RMSE) on the test data: 1.2130441761449018\n"
     ]
    }
   ],
   "source": [
    "assembler = VectorAssembler(inputCols=feature_columns, outputCol='features')\n",
    "\n",
    "# Split the data into training and testing sets\n",
    "(training_data, testing_data) = df1.randomSplit([0.8, 0.2], seed=1234)\n",
    "\n",
    "# Create a GBTRegressor\n",
    "gbt = GBTRegressor(featuresCol='features', labelCol='Adj Close', maxDepth=5, maxBins=32, maxIter=20, seed=42)\n",
    "\n",
    "# Create a pipeline\n",
    "pipeline = Pipeline(stages=[assembler, gbt])\n",
    "\n",
    "# Fit the model\n",
    "model = pipeline.fit(training_data)\n",
    "\n",
    "# Make predictions on the testing set\n",
    "predictions = model.transform(testing_data)\n",
    "\n",
    "# Evaluate the model\n",
    "evaluator = RegressionEvaluator(labelCol=\"Adj Close\", predictionCol=\"prediction\", metricName=\"rmse\")\n",
    "rmse = evaluator.evaluate(predictions)\n",
    "print(f\"Root Mean Squared Error (RMSE) on the test data: {rmse}\")\n",
    "# An aRMSE value close to 1 implies that the model's predictions have a high level of error relative to the range of the target variable."
   ]
  },
  {
   "cell_type": "markdown",
   "metadata": {},
   "source": [
    "### Gradient-boosted Trees: KOv3 on Adj Close all columns"
   ]
  },
  {
   "cell_type": "code",
   "execution_count": 28,
   "metadata": {},
   "outputs": [],
   "source": [
    "df10 = spark.read.csv(path10, header=True, inferSchema=True)"
   ]
  },
  {
   "cell_type": "code",
   "execution_count": 29,
   "metadata": {},
   "outputs": [],
   "source": [
    "feature_columns = df10.columns\n",
    "feature_columns.remove('Adj Close')\n",
    "feature_columns.remove('Date')"
   ]
  },
  {
   "cell_type": "code",
   "execution_count": 34,
   "metadata": {},
   "outputs": [],
   "source": [
    "# Convert the TaxEffectOfUnusualItems column from string to double \n",
    "df10 = df10.withColumn(\"TaxEffectOfUnusualItems\", col(\"TaxEffectOfUnusualItems\").cast(\"double\"))"
   ]
  },
  {
   "cell_type": "code",
   "execution_count": 38,
   "metadata": {},
   "outputs": [],
   "source": [
    "#df10. printSchema()"
   ]
  },
  {
   "cell_type": "code",
   "execution_count": 37,
   "metadata": {},
   "outputs": [
    {
     "name": "stdout",
     "output_type": "stream",
     "text": [
      "Root Mean Squared Error (RMSE) on the test data: 3.273395774607916\n"
     ]
    }
   ],
   "source": [
    "assembler = VectorAssembler(inputCols=feature_columns, outputCol='features', handleInvalid=\"skip\")\n",
    "\n",
    "# Split the data into training and testing sets\n",
    "(training_data, testing_data) = df10.randomSplit([0.8, 0.2], seed=1234)\n",
    "\n",
    "training_data = training_data.na.drop()\n",
    "\n",
    "# Create a GBTRegressor\n",
    "gbt = GBTRegressor(featuresCol='features', labelCol='Adj Close', maxDepth=5, maxBins=32, maxIter=20, seed=42)\n",
    "\n",
    "# Create a pipeline\n",
    "pipeline = Pipeline(stages=[assembler, gbt])\n",
    "\n",
    "# Fit the model\n",
    "model = pipeline.fit(training_data)\n",
    "\n",
    "# Make predictions on the testing set\n",
    "predictions = model.transform(testing_data)\n",
    "\n",
    "# Evaluate the model\n",
    "evaluator = RegressionEvaluator(labelCol=\"Adj Close\", predictionCol=\"prediction\", metricName=\"rmse\")\n",
    "rmse = evaluator.evaluate(predictions)\n",
    "print(f\"Root Mean Squared Error (RMSE) on the test data: {rmse}\")\n",
    "# An aRMSE value close to 1 implies that the model's predictions have a high level of error relative to the range of the target variable."
   ]
  },
  {
   "cell_type": "markdown",
   "metadata": {},
   "source": [
    "### Gradient-boosted Trees: KOv3 on Adj Close with subset of columns"
   ]
  },
  {
   "cell_type": "code",
   "execution_count": 43,
   "metadata": {},
   "outputs": [],
   "source": [
    "features_columns = ['PeRatio','PsRatio','PbRatio','TotalRevenue','GrossProfit']"
   ]
  },
  {
   "cell_type": "code",
   "execution_count": 44,
   "metadata": {},
   "outputs": [
    {
     "name": "stdout",
     "output_type": "stream",
     "text": [
      "Root Mean Squared Error (RMSE) on the test data: 2.9465187724424524\n"
     ]
    }
   ],
   "source": [
    "assembler = VectorAssembler(inputCols=feature_columns, outputCol='features', handleInvalid=\"skip\")\n",
    "\n",
    "# Split the data into training and testing sets\n",
    "(training_data, testing_data) = df10.randomSplit([0.8, 0.2], seed=1234)\n",
    "\n",
    "training_data = training_data.na.drop()\n",
    "\n",
    "# Create a GBTRegressor\n",
    "gbt = GBTRegressor(featuresCol='features', labelCol='Adj Close', maxDepth=5, maxBins=32, maxIter=20, seed=42)\n",
    "\n",
    "# Create a pipeline\n",
    "pipeline = Pipeline(stages=[assembler, gbt])\n",
    "\n",
    "# Fit the model\n",
    "model = pipeline.fit(training_data)\n",
    "\n",
    "# Make predictions on the testing set\n",
    "predictions = model.transform(testing_data)\n",
    "\n",
    "# Evaluate the model\n",
    "evaluator = RegressionEvaluator(labelCol=\"Adj Close\", predictionCol=\"prediction\", metricName=\"rmse\")\n",
    "rmse = evaluator.evaluate(predictions)\n",
    "print(f\"Root Mean Squared Error (RMSE) on the test data: {rmse}\")\n",
    "# An aRMSE value close to 1 implies that the model's predictions have a high level of error relative to the range of the target variable."
   ]
  },
  {
   "cell_type": "markdown",
   "metadata": {},
   "source": [
    "### Gradient-boosted Trees: KOv3 on PercentChangeClose all columns"
   ]
  },
  {
   "cell_type": "code",
   "execution_count": null,
   "metadata": {},
   "outputs": [],
   "source": [
    "feature_columns = df10.columns\n",
    "feature_columns.remove('PercentChangeClose')\n",
    "feature_columns.remove('Date')"
   ]
  },
  {
   "cell_type": "code",
   "execution_count": 39,
   "metadata": {},
   "outputs": [
    {
     "name": "stdout",
     "output_type": "stream",
     "text": [
      "Root Mean Squared Error (RMSE) on the test data: 0.043364899711974776\n"
     ]
    }
   ],
   "source": [
    "assembler = VectorAssembler(inputCols=feature_columns, outputCol='features', handleInvalid=\"skip\")\n",
    "\n",
    "# Split the data into training and testing sets\n",
    "(training_data, testing_data) = df10.randomSplit([0.8, 0.2], seed=1234)\n",
    "\n",
    "training_data = training_data.na.drop()\n",
    "\n",
    "# Create a GBTRegressor\n",
    "gbt = GBTRegressor(featuresCol='features', labelCol='PercentChangeClose', maxDepth=5, maxBins=32, maxIter=20, seed=42)\n",
    "\n",
    "# Create a pipeline\n",
    "pipeline = Pipeline(stages=[assembler, gbt])\n",
    "\n",
    "# Fit the model\n",
    "model = pipeline.fit(training_data)\n",
    "\n",
    "# Make predictions on the testing set\n",
    "predictions = model.transform(testing_data)\n",
    "\n",
    "# Evaluate the model\n",
    "evaluator = RegressionEvaluator(labelCol=\"PercentChangeClose\", predictionCol=\"prediction\", metricName=\"rmse\")\n",
    "rmse = evaluator.evaluate(predictions)\n",
    "print(f\"Root Mean Squared Error (RMSE) on the test data: {rmse}\")\n",
    "# An aRMSE value close to 1 implies that the model's predictions have a high level of error relative to the range of the target variable."
   ]
  },
  {
   "cell_type": "markdown",
   "metadata": {},
   "source": [
    "### Gradient-boosted Trees: KOv3 on PercentChangeClose with subset of columns"
   ]
  },
  {
   "cell_type": "code",
   "execution_count": 41,
   "metadata": {},
   "outputs": [],
   "source": [
    "features_columns = ['PeRatio','PsRatio','PbRatio','TotalRevenue','GrossProfit']"
   ]
  },
  {
   "cell_type": "code",
   "execution_count": 42,
   "metadata": {},
   "outputs": [
    {
     "name": "stdout",
     "output_type": "stream",
     "text": [
      "Root Mean Squared Error (RMSE) on the test data: 0.07415345470557937\n"
     ]
    }
   ],
   "source": [
    "assembler = VectorAssembler(inputCols=feature_columns, outputCol='features', handleInvalid=\"skip\")\n",
    "\n",
    "# Split the data into training and testing sets\n",
    "(training_data, testing_data) = df10.randomSplit([0.8, 0.2], seed=1234)\n",
    "\n",
    "training_data = training_data.na.drop()\n",
    "\n",
    "# Create a GBTRegressor\n",
    "gbt = GBTRegressor(featuresCol='features', labelCol='PercentChangeClose', maxDepth=5, maxBins=32, maxIter=20, seed=42)\n",
    "\n",
    "# Create a pipeline\n",
    "pipeline = Pipeline(stages=[assembler, gbt])\n",
    "\n",
    "# Fit the model\n",
    "model = pipeline.fit(training_data)\n",
    "\n",
    "# Make predictions on the testing set\n",
    "predictions = model.transform(testing_data)\n",
    "\n",
    "# Evaluate the model\n",
    "evaluator = RegressionEvaluator(labelCol=\"PercentChangeClose\", predictionCol=\"prediction\", metricName=\"rmse\")\n",
    "rmse = evaluator.evaluate(predictions)\n",
    "print(f\"Root Mean Squared Error (RMSE) on the test data: {rmse}\")\n",
    "# An aRMSE value close to 1 implies that the model's predictions have a high level of error relative to the range of the target variable."
   ]
  }
 ],
 "metadata": {
  "kernelspec": {
   "display_name": "DS5110 Spark 3.3",
   "language": "python",
   "name": "ds5110_spark3.3"
  },
  "language_info": {
   "codemirror_mode": {
    "name": "ipython",
    "version": 3
   },
   "file_extension": ".py",
   "mimetype": "text/x-python",
   "name": "python",
   "nbconvert_exporter": "python",
   "pygments_lexer": "ipython3",
   "version": "3.7.12"
  }
 },
 "nbformat": 4,
 "nbformat_minor": 4
}
